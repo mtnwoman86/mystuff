{
 "metadata": {
  "name": ""
 },
 "nbformat": 3,
 "nbformat_minor": 0,
 "worksheets": [
  {
   "cells": [
    {
     "cell_type": "code",
     "collapsed": false,
     "input": [
      "from netCDF4 import Dataset\n",
      "import numpy as np\n",
      "var = Dataset(\"/Users/brodzik/projects/PMESDR/pmesdr_regression_data/201409/quick/bgiRSS/e2n/F131-E2N97-061-061.lis_dump1.nc\", \"r\", 'NETCDF4' )"
     ],
     "language": "python",
     "metadata": {},
     "outputs": [],
     "prompt_number": 1
    },
    {
     "cell_type": "code",
     "collapsed": false,
     "input": [
      "print var.variables.keys()[0]\n",
      "keys = var.variables.keys()\n",
      "print len(keys)\n",
      "\n",
      "\n"
     ],
     "language": "python",
     "metadata": {},
     "outputs": [
      {
       "output_type": "stream",
       "stream": "stdout",
       "text": [
        "bgi_image\n",
        "1\n"
       ]
      }
     ],
     "prompt_number": 9
    },
    {
     "cell_type": "code",
     "collapsed": false,
     "input": [
      "f1 = Dataset(\"/Users/brodzik/Desktop/bgi/test_bgi.nc\", \"r\", 'NETCDF4' )\n",
      "print f1\n",
      "f2 = Dataset(\"/Users/brodzik/Desktop/bgi/test_bgi_diffs.nc\", \"r\", 'NETCDF4' )\n",
      "print f2\n"
     ],
     "language": "python",
     "metadata": {},
     "outputs": [
      {
       "output_type": "stream",
       "stream": "stdout",
       "text": [
        "<type 'netCDF4.Dataset'>\n",
        "root group (NETCDF4 data model, file format UNDEFINED):\n",
        "    dimensions(sizes): rows(3), columns(2)\n",
        "    variables(dimensions): float64 \u001b[4mbgi_image\u001b[0m(rows,columns)\n",
        "    groups: \n",
        "\n",
        "<type 'netCDF4.Dataset'>\n",
        "root group (NETCDF4 data model, file format UNDEFINED):\n",
        "    dimensions(sizes): rows(3), columns(2)\n",
        "    variables(dimensions): float64 \u001b[4mbgi_image\u001b[0m(rows,columns)\n",
        "    groups: \n",
        "\n"
       ]
      }
     ],
     "prompt_number": 76
    },
    {
     "cell_type": "code",
     "collapsed": false,
     "input": [
      "d1 = f1.variables[\"bgi_image\"][:]\n",
      "d2 = f2.variables[\"bgi_image\"][:]\n",
      "print d1\n",
      "print d2\n"
     ],
     "language": "python",
     "metadata": {},
     "outputs": [
      {
       "output_type": "stream",
       "stream": "stdout",
       "text": [
        "[[ 150.  200.]\n",
        " [ 201.  325.]\n",
        " [ 278.  285.]]\n",
        "[[ 150.  500.]\n",
        " [ 201.  325.]\n",
        " [ 278.  285.]]\n"
       ]
      }
     ],
     "prompt_number": 77
    },
    {
     "cell_type": "code",
     "collapsed": false,
     "input": [
      "data = fil.variables[\"a_image\"][:]\n",
      "print data"
     ],
     "language": "python",
     "metadata": {},
     "outputs": [
      {
       "output_type": "stream",
       "stream": "stdout",
       "text": [
        "[[  525.     700.35]\n",
        " [  703.5   1137.5 ]\n",
        " [  973.     997.5 ]]\n"
       ]
      }
     ],
     "prompt_number": 29
    },
    {
     "cell_type": "code",
     "collapsed": false,
     "input": [
      "bgifil = Dataset(\"/Users/brodzik/Desktop/test_bgi_diffs.nc\", \"w\", 'NETCDF4' )\n",
      "bgifil.createDimension( \"rows\", 3 )\n",
      "bgifil.createDimension( \"columns\", 2 )"
     ],
     "language": "python",
     "metadata": {},
     "outputs": [
      {
       "metadata": {},
       "output_type": "pyout",
       "prompt_number": 30,
       "text": [
        "<netCDF4.Dimension at 0x10dcbdbe0>"
       ]
      }
     ],
     "prompt_number": 30
    },
    {
     "cell_type": "code",
     "collapsed": false,
     "input": [
      "bgifil.createVariable( \"bgi_image\", float64, ( \"rows\", \"columns\" ) )"
     ],
     "language": "python",
     "metadata": {},
     "outputs": [
      {
       "metadata": {},
       "output_type": "pyout",
       "prompt_number": 31,
       "text": [
        "<netCDF4.Variable at 0x10dce5b90>"
       ]
      }
     ],
     "prompt_number": 31
    },
    {
     "cell_type": "code",
     "collapsed": false,
     "input": [
      "fil = Dataset(\"/Users/brodzik/Desktop/test.nc\", \"r\", 'NETCDF4' )\n",
      "print fil"
     ],
     "language": "python",
     "metadata": {},
     "outputs": [
      {
       "output_type": "stream",
       "stream": "stdout",
       "text": [
        "<type 'netCDF4.Dataset'>\n",
        "root group (NETCDF4 data model, file format UNDEFINED):\n",
        "    dimensions(sizes): rows(3), columns(2)\n",
        "    variables(dimensions): float64 \u001b[4ma_image\u001b[0m(rows,columns), float64 \u001b[4mave_image\u001b[0m(rows,columns)\n",
        "    groups: \n",
        "\n"
       ]
      }
     ],
     "prompt_number": 32
    },
    {
     "cell_type": "code",
     "collapsed": false,
     "input": [
      "origdata = fil.variables['a_image'][:]\n",
      "print origdata"
     ],
     "language": "python",
     "metadata": {},
     "outputs": [
      {
       "output_type": "stream",
       "stream": "stdout",
       "text": [
        "[[ 150.  200.]\n",
        " [ 201.  325.]\n",
        " [ 278.  285.]]\n"
       ]
      }
     ],
     "prompt_number": 33
    },
    {
     "cell_type": "code",
     "collapsed": false,
     "input": [
      "origdata[0][1] = 500.\n",
      "print origdata"
     ],
     "language": "python",
     "metadata": {},
     "outputs": [
      {
       "output_type": "stream",
       "stream": "stdout",
       "text": [
        "[[ 150.  500.]\n",
        " [ 201.  325.]\n",
        " [ 278.  285.]]\n"
       ]
      }
     ],
     "prompt_number": 34
    },
    {
     "cell_type": "code",
     "collapsed": false,
     "input": [
      "bgifil.variables[\"bgi_image\"][:] = origdata"
     ],
     "language": "python",
     "metadata": {},
     "outputs": [],
     "prompt_number": 35
    },
    {
     "cell_type": "code",
     "collapsed": false,
     "input": [
      "bgifil.close()"
     ],
     "language": "python",
     "metadata": {},
     "outputs": [],
     "prompt_number": 36
    },
    {
     "cell_type": "code",
     "collapsed": false,
     "input": [
      "otherfil = Dataset(\"/Users/brodzik/Desktop/test_bgi_diffs.nc\", \"r\", 'NETCDF4' )\n",
      "print otherfil\n",
      "bad_bgi = otherfil.variables[\"bgi_image\"][:]\n",
      "print bad_bgi\n",
      "\n"
     ],
     "language": "python",
     "metadata": {},
     "outputs": [
      {
       "output_type": "stream",
       "stream": "stdout",
       "text": [
        "<type 'netCDF4.Dataset'>\n",
        "root group (NETCDF4 data model, file format UNDEFINED):\n",
        "    dimensions(sizes): rows(3), columns(2)\n",
        "    variables(dimensions): float64 \u001b[4mbgi_image\u001b[0m(rows,columns)\n",
        "    groups: \n",
        "\n",
        "[[ 150.  500.]\n",
        " [ 201.  325.]\n",
        " [ 278.  285.]]\n"
       ]
      }
     ],
     "prompt_number": 45
    },
    {
     "cell_type": "code",
     "collapsed": false,
     "input": [
      "otherfil.close()"
     ],
     "language": "python",
     "metadata": {},
     "outputs": [],
     "prompt_number": 41
    },
    {
     "cell_type": "code",
     "collapsed": false,
     "input": [
      "otherfil = Dataset(\"/Users/brodzik/projects/PMESDR/PMESDR_daily_regression_test/python/test_cetb_utilities_data/bgi_data/test_bgi.nc\", \"r\", 'NETCDF4' )\n",
      "print otherfil\n",
      "good_bgi = otherfil.variables[\"bgi_image\"][:]\n",
      "print good_bgi"
     ],
     "language": "python",
     "metadata": {},
     "outputs": [
      {
       "output_type": "stream",
       "stream": "stdout",
       "text": [
        "<type 'netCDF4.Dataset'>\n",
        "root group (NETCDF4 data model, file format UNDEFINED):\n",
        "    dimensions(sizes): rows(3), columns(2)\n",
        "    variables(dimensions): float64 \u001b[4mbgi_image\u001b[0m(rows,columns)\n",
        "    groups: \n",
        "\n",
        "[[ 150.  200.]\n",
        " [ 201.  325.]\n",
        " [ 278.  285.]]\n"
       ]
      }
     ],
     "prompt_number": 44
    },
    {
     "cell_type": "code",
     "collapsed": false,
     "input": [
      "print good_bgi\n",
      "print bad_bgi\n",
      "diff = bad_bgi - good_bgi\n",
      "print diff\n",
      "print diff[ np.where( np.logical_and( np.logical_and( 50. < bad_bgi, bad_bgi < 350. ), \n",
      "                                np.logical_and( 50. < good_bgi, good_bgi < 350. ) ) ) ]\n",
      "print diff[ ( 50. < bad_bgi ) & ( bad_bgi < 350. ) & ( 50. < good_bgi ) & ( good_bgi < 350. ) ]\n"
     ],
     "language": "python",
     "metadata": {},
     "outputs": [
      {
       "output_type": "stream",
       "stream": "stdout",
       "text": [
        "[[ 150.  200.]\n",
        " [ 201.  325.]\n",
        " [ 278.  285.]]\n",
        "[[ 150.  500.]\n",
        " [ 201.  325.]\n",
        " [ 278.  285.]]\n",
        "[[   0.  300.]\n",
        " [   0.    0.]\n",
        " [   0.    0.]]\n",
        "[ 0.  0.  0.  0.  0.]\n",
        "[ 0.  0.  0.  0.  0.]\n"
       ]
      }
     ],
     "prompt_number": 63
    },
    {
     "cell_type": "code",
     "collapsed": false,
     "input": [
      "new = bad_bgi.copy()\n",
      "new[2][0] = -10.\n",
      "print new\n",
      "print bad_bgi\n",
      "diff = new - bad_bgi\n",
      "print diff\n",
      "print diff[ ( 50. < bad_bgi ) & ( bad_bgi < 350. ) & ( 50. < new ) & ( new < 350. ) ]\n",
      "indx = ( 50. < bad_bgi ) & ( bad_bgi < 350. ) & ( 50. < new ) & ( new < 350. )\n",
      "print indx\n",
      "\n"
     ],
     "language": "python",
     "metadata": {},
     "outputs": [
      {
       "output_type": "stream",
       "stream": "stdout",
       "text": [
        "[[ 150.  500.]\n",
        " [ 201.  325.]\n",
        " [ -10.  285.]]\n",
        "[[ 150.  500.]\n",
        " [ 201.  325.]\n",
        " [ 278.  285.]]\n",
        "[[   0.    0.]\n",
        " [   0.    0.]\n",
        " [-288.    0.]]\n",
        "[ 0.  0.  0.  0.]\n",
        "[[ True False]\n",
        " [ True  True]\n",
        " [False  True]]\n"
       ]
      }
     ],
     "prompt_number": 75
    },
    {
     "cell_type": "code",
     "collapsed": false,
     "input": [
      "fil.createVariable( \"ave_image\", float64, ( \"rows\", \"columns\" ) )"
     ],
     "language": "python",
     "metadata": {},
     "outputs": [
      {
       "metadata": {},
       "output_type": "pyout",
       "prompt_number": 21,
       "text": [
        "<netCDF4.Variable at 0x10dce54d0>"
       ]
      }
     ],
     "prompt_number": 21
    },
    {
     "cell_type": "code",
     "collapsed": false,
     "input": [
      "fil.close()"
     ],
     "language": "python",
     "metadata": {},
     "outputs": [],
     "prompt_number": 22
    },
    {
     "cell_type": "code",
     "collapsed": false,
     "input": [
      "fil = Dataset(\"/Users/brodzik/Desktop/test.nc\", \"r\", 'NETCDF4' )\n",
      "print fil\n",
      "keys = fil.variables.keys()\n",
      "print keys"
     ],
     "language": "python",
     "metadata": {},
     "outputs": [
      {
       "output_type": "stream",
       "stream": "stdout",
       "text": [
        "<type 'netCDF4.Dataset'>\n",
        "root group (NETCDF4 data model, file format UNDEFINED):\n",
        "    dimensions(sizes): rows(3), columns(2)\n",
        "    variables(dimensions): float64 \u001b[4ma_image\u001b[0m(rows,columns), float64 \u001b[4mave_image\u001b[0m(rows,columns)\n",
        "    groups: \n",
        "\n",
        "[u'a_image', u'ave_image']\n"
       ]
      }
     ],
     "prompt_number": 24
    },
    {
     "cell_type": "code",
     "collapsed": false,
     "input": [
      "for key in keys: print key\n",
      "    \n"
     ],
     "language": "python",
     "metadata": {},
     "outputs": [
      {
       "output_type": "stream",
       "stream": "stdout",
       "text": [
        "a_image\n",
        "ave_image\n"
       ]
      }
     ],
     "prompt_number": 25
    },
    {
     "cell_type": "code",
     "collapsed": false,
     "input": [
      "print len(x)\n"
     ],
     "language": "python",
     "metadata": {},
     "outputs": [
      {
       "output_type": "stream",
       "stream": "stdout",
       "text": [
        "2\n"
       ]
      }
     ],
     "prompt_number": 5
    },
    {
     "cell_type": "code",
     "collapsed": false,
     "input": [
      "def test(x):\n",
      "    x = 5\n",
      "y = 8\n",
      "test( y )\n",
      "print y"
     ],
     "language": "python",
     "metadata": {},
     "outputs": [
      {
       "output_type": "stream",
       "stream": "stdout",
       "text": [
        "8\n"
       ]
      }
     ],
     "prompt_number": 73
    },
    {
     "cell_type": "code",
     "collapsed": false,
     "input": [],
     "language": "python",
     "metadata": {},
     "outputs": []
    }
   ],
   "metadata": {}
  }
 ]
}