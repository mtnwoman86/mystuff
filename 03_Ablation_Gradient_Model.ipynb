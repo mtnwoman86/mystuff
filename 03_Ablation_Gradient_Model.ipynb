{
 "cells": [
  {
   "cell_type": "markdown",
   "metadata": {},
   "source": [
    "# Running the ablation gradient model on MODICE clean ice hypsometry"
   ]
  },
  {
   "cell_type": "markdown",
   "metadata": {},
   "source": [
    "## <i><p>Purpose of this notebook:  Introduce you to:     <ol>         <li> a few ways to make a plot nicer looking</li>         <li> an implementation of the ablation-gradient model, using MODICE hypsometry for clean ice</li>     </ol> </p>     <p>At the end of this lesson, you should be able to read a MODICE hypsometry file, and:     <ol>         <li> run the clean ice ablation gradient model for several basins and different inputs, and         <li> compare results     </ol> </p></i>"
   ]
  },
  {
   "cell_type": "code",
   "execution_count": 2,
   "metadata": {
    "collapsed": false
   },
   "outputs": [
    {
     "name": "stdout",
     "output_type": "stream",
     "text": [
      "Populating the interactive namespace from numpy and matplotlib\n"
     ]
    }
   ],
   "source": [
    "%pylab inline\n",
    "import numpy as np\n",
    "import matplotlib.pyplot as plt\n",
    "import pandas as pd\n",
    "from imp import reload\n",
    "pd.set_option('display.max_rows', 370)\n",
    "pd.set_option('display.max_columns', 90)\n",
    "pd.set_option('display.width', 200)"
   ]
  },
  {
   "cell_type": "markdown",
   "metadata": {},
   "source": [
    "## Read a MODICE file as a python hypsometry object:"
   ]
  },
  {
   "cell_type": "code",
   "execution_count": 3,
   "metadata": {
    "collapsed": false
   },
   "outputs": [
    {
     "name": "stdout",
     "output_type": "stream",
     "text": [
      "hypsometry: read hypsometry data from modice_area_by_elev/IN_Indus_at_Kotri.0100m.modicev03_area_by_elev.txt\n",
      "hypsometry: 0 comments.\n",
      "hypsometry: 1 dates.\n",
      "hypsometry: 84 elevations.\n"
     ]
    }
   ],
   "source": [
    "import hypsometry\n",
    "reload(hypsometry)\n",
    "filename = \"modice_area_by_elev/IN_Indus_at_Kotri.0100m.modicev03_area_by_elev.txt\"\n",
    "modice = hypsometry.Hypsometry()\n",
    "modice.read( filename, verbose=True )"
   ]
  },
  {
   "cell_type": "code",
   "execution_count": 4,
   "metadata": {
    "collapsed": false
   },
   "outputs": [
    {
     "data": {
      "text/html": [
       "<div>\n",
       "<table border=\"1\" class=\"dataframe\">\n",
       "  <thead>\n",
       "    <tr style=\"text-align: right;\">\n",
       "      <th></th>\n",
       "      <th>0.</th>\n",
       "      <th>100.</th>\n",
       "      <th>200.</th>\n",
       "      <th>300.</th>\n",
       "      <th>400.</th>\n",
       "      <th>500.</th>\n",
       "      <th>600.</th>\n",
       "      <th>700.</th>\n",
       "      <th>800.</th>\n",
       "      <th>900.</th>\n",
       "      <th>1000.</th>\n",
       "      <th>1100.</th>\n",
       "      <th>1200.</th>\n",
       "      <th>1300.</th>\n",
       "      <th>1400.</th>\n",
       "      <th>1500.</th>\n",
       "      <th>1600.</th>\n",
       "      <th>1700.</th>\n",
       "      <th>1800.</th>\n",
       "      <th>1900.</th>\n",
       "      <th>2000.</th>\n",
       "      <th>2100.</th>\n",
       "      <th>2200.</th>\n",
       "      <th>2300.</th>\n",
       "      <th>2400.</th>\n",
       "      <th>2500.</th>\n",
       "      <th>2600.</th>\n",
       "      <th>2700.</th>\n",
       "      <th>2800.</th>\n",
       "      <th>2900.</th>\n",
       "      <th>3000.</th>\n",
       "      <th>3100.</th>\n",
       "      <th>3200.</th>\n",
       "      <th>3300.</th>\n",
       "      <th>3400.</th>\n",
       "      <th>3500.</th>\n",
       "      <th>3600.</th>\n",
       "      <th>3700.</th>\n",
       "      <th>3800.</th>\n",
       "      <th>3900.</th>\n",
       "      <th>4000.</th>\n",
       "      <th>4100.</th>\n",
       "      <th>4200.</th>\n",
       "      <th>4300.</th>\n",
       "      <th>4400.</th>\n",
       "      <th>4500.</th>\n",
       "      <th>4600.</th>\n",
       "      <th>4700.</th>\n",
       "      <th>4800.</th>\n",
       "      <th>4900.</th>\n",
       "      <th>5000.</th>\n",
       "      <th>5100.</th>\n",
       "      <th>5200.</th>\n",
       "      <th>5300.</th>\n",
       "      <th>5400.</th>\n",
       "      <th>5500.</th>\n",
       "      <th>5600.</th>\n",
       "      <th>5700.</th>\n",
       "      <th>5800.</th>\n",
       "      <th>5900.</th>\n",
       "      <th>6000.</th>\n",
       "      <th>6100.</th>\n",
       "      <th>6200.</th>\n",
       "      <th>6300.</th>\n",
       "      <th>6400.</th>\n",
       "      <th>6500.</th>\n",
       "      <th>6600.</th>\n",
       "      <th>6700.</th>\n",
       "      <th>6800.</th>\n",
       "      <th>6900.</th>\n",
       "      <th>7000.</th>\n",
       "      <th>7100.</th>\n",
       "      <th>7200.</th>\n",
       "      <th>7300.</th>\n",
       "      <th>7400.</th>\n",
       "      <th>7500.</th>\n",
       "      <th>7600.</th>\n",
       "      <th>7700.</th>\n",
       "      <th>7800.</th>\n",
       "      <th>7900.</th>\n",
       "      <th>8000.</th>\n",
       "      <th>8100.</th>\n",
       "      <th>8200.</th>\n",
       "      <th>8300.</th>\n",
       "    </tr>\n",
       "    <tr>\n",
       "      <th>Date</th>\n",
       "      <th></th>\n",
       "      <th></th>\n",
       "      <th></th>\n",
       "      <th></th>\n",
       "      <th></th>\n",
       "      <th></th>\n",
       "      <th></th>\n",
       "      <th></th>\n",
       "      <th></th>\n",
       "      <th></th>\n",
       "      <th></th>\n",
       "      <th></th>\n",
       "      <th></th>\n",
       "      <th></th>\n",
       "      <th></th>\n",
       "      <th></th>\n",
       "      <th></th>\n",
       "      <th></th>\n",
       "      <th></th>\n",
       "      <th></th>\n",
       "      <th></th>\n",
       "      <th></th>\n",
       "      <th></th>\n",
       "      <th></th>\n",
       "      <th></th>\n",
       "      <th></th>\n",
       "      <th></th>\n",
       "      <th></th>\n",
       "      <th></th>\n",
       "      <th></th>\n",
       "      <th></th>\n",
       "      <th></th>\n",
       "      <th></th>\n",
       "      <th></th>\n",
       "      <th></th>\n",
       "      <th></th>\n",
       "      <th></th>\n",
       "      <th></th>\n",
       "      <th></th>\n",
       "      <th></th>\n",
       "      <th></th>\n",
       "      <th></th>\n",
       "      <th></th>\n",
       "      <th></th>\n",
       "      <th></th>\n",
       "      <th></th>\n",
       "      <th></th>\n",
       "      <th></th>\n",
       "      <th></th>\n",
       "      <th></th>\n",
       "      <th></th>\n",
       "      <th></th>\n",
       "      <th></th>\n",
       "      <th></th>\n",
       "      <th></th>\n",
       "      <th></th>\n",
       "      <th></th>\n",
       "      <th></th>\n",
       "      <th></th>\n",
       "      <th></th>\n",
       "      <th></th>\n",
       "      <th></th>\n",
       "      <th></th>\n",
       "      <th></th>\n",
       "      <th></th>\n",
       "      <th></th>\n",
       "      <th></th>\n",
       "      <th></th>\n",
       "      <th></th>\n",
       "      <th></th>\n",
       "      <th></th>\n",
       "      <th></th>\n",
       "      <th></th>\n",
       "      <th></th>\n",
       "      <th></th>\n",
       "      <th></th>\n",
       "      <th></th>\n",
       "      <th></th>\n",
       "      <th></th>\n",
       "      <th></th>\n",
       "      <th></th>\n",
       "      <th></th>\n",
       "      <th></th>\n",
       "      <th></th>\n",
       "    </tr>\n",
       "  </thead>\n",
       "  <tbody>\n",
       "    <tr>\n",
       "      <th>NaN</th>\n",
       "      <td>0</td>\n",
       "      <td>0</td>\n",
       "      <td>0</td>\n",
       "      <td>0</td>\n",
       "      <td>0</td>\n",
       "      <td>0</td>\n",
       "      <td>0</td>\n",
       "      <td>0</td>\n",
       "      <td>0</td>\n",
       "      <td>0</td>\n",
       "      <td>0</td>\n",
       "      <td>0</td>\n",
       "      <td>0</td>\n",
       "      <td>0.21</td>\n",
       "      <td>0</td>\n",
       "      <td>0</td>\n",
       "      <td>0</td>\n",
       "      <td>0</td>\n",
       "      <td>0</td>\n",
       "      <td>0</td>\n",
       "      <td>0</td>\n",
       "      <td>0</td>\n",
       "      <td>0</td>\n",
       "      <td>0</td>\n",
       "      <td>0</td>\n",
       "      <td>0</td>\n",
       "      <td>0</td>\n",
       "      <td>0</td>\n",
       "      <td>0</td>\n",
       "      <td>0.43</td>\n",
       "      <td>0.86</td>\n",
       "      <td>1.72</td>\n",
       "      <td>3.43</td>\n",
       "      <td>4.08</td>\n",
       "      <td>5.15</td>\n",
       "      <td>7.08</td>\n",
       "      <td>9.66</td>\n",
       "      <td>11.38</td>\n",
       "      <td>15.46</td>\n",
       "      <td>22.54</td>\n",
       "      <td>40.36</td>\n",
       "      <td>67.62</td>\n",
       "      <td>118.06</td>\n",
       "      <td>229.26</td>\n",
       "      <td>391.11</td>\n",
       "      <td>601.47</td>\n",
       "      <td>857.13</td>\n",
       "      <td>1157.22</td>\n",
       "      <td>1425.33</td>\n",
       "      <td>1694.09</td>\n",
       "      <td>1938.37</td>\n",
       "      <td>2165.48</td>\n",
       "      <td>2285.04</td>\n",
       "      <td>2356.74</td>\n",
       "      <td>2270.66</td>\n",
       "      <td>2125.12</td>\n",
       "      <td>1969.49</td>\n",
       "      <td>1781.24</td>\n",
       "      <td>1701.81</td>\n",
       "      <td>1436.07</td>\n",
       "      <td>1060.2</td>\n",
       "      <td>713.95</td>\n",
       "      <td>444.77</td>\n",
       "      <td>280.13</td>\n",
       "      <td>179.03</td>\n",
       "      <td>108.4</td>\n",
       "      <td>94.24</td>\n",
       "      <td>77.06</td>\n",
       "      <td>50.44</td>\n",
       "      <td>48.08</td>\n",
       "      <td>29.41</td>\n",
       "      <td>26.19</td>\n",
       "      <td>19.96</td>\n",
       "      <td>10.52</td>\n",
       "      <td>8.59</td>\n",
       "      <td>7.3</td>\n",
       "      <td>3.22</td>\n",
       "      <td>2.36</td>\n",
       "      <td>0.43</td>\n",
       "      <td>0.43</td>\n",
       "      <td>0</td>\n",
       "      <td>0</td>\n",
       "      <td>0.21</td>\n",
       "      <td>0.21</td>\n",
       "    </tr>\n",
       "  </tbody>\n",
       "</table>\n",
       "</div>"
      ],
      "text/plain": [
       "      0.  100.  200.  300.  400.  500.  600.  700.  800.  900.  1000.  1100.  1200.  1300.  1400.  1500.  1600.  1700.  1800.  1900.  2000.  2100.  2200.  2300.  2400.  2500.  2600.  2700.  2800.  \\\n",
       "Date                                                                                                                                                                                                  \n",
       "NaN    0     0     0     0     0     0     0     0     0     0      0      0      0   0.21      0      0      0      0      0      0      0      0      0      0      0      0      0      0      0   \n",
       "\n",
       "      2900.  3000.  3100.  3200.  3300.  3400.  3500.  3600.  3700.  3800.  3900.  4000.  4100.   4200.   4300.   4400.   4500.   4600.    4700.    4800.    4900.    5000.    5100.    5200.  \\\n",
       "Date                                                                                                                                                                                            \n",
       "NaN    0.43   0.86   1.72   3.43   4.08   5.15   7.08   9.66  11.38  15.46  22.54  40.36  67.62  118.06  229.26  391.11  601.47  857.13  1157.22  1425.33  1694.09  1938.37  2165.48  2285.04   \n",
       "\n",
       "        5300.    5400.    5500.    5600.    5700.    5800.    5900.   6000.   6100.   6200.   6300.   6400.  6500.  6600.  6700.  6800.  6900.  7000.  7100.  7200.  7300.  7400.  7500.  7600.  \\\n",
       "Date                                                                                                                                                                                              \n",
       "NaN   2356.74  2270.66  2125.12  1969.49  1781.24  1701.81  1436.07  1060.2  713.95  444.77  280.13  179.03  108.4  94.24  77.06  50.44  48.08  29.41  26.19  19.96  10.52   8.59    7.3   3.22   \n",
       "\n",
       "      7700.  7800.  7900.  8000.  8100.  8200.  8300.  \n",
       "Date                                                   \n",
       "NaN    2.36   0.43   0.43      0      0   0.21   0.21  "
      ]
     },
     "execution_count": 4,
     "metadata": {},
     "output_type": "execute_result"
    }
   ],
   "source": [
    "modice.data"
   ]
  },
  {
   "cell_type": "markdown",
   "metadata": {},
   "source": [
    "## Display it as a bar plot (change the default y axis labelling)"
   ]
  },
  {
   "cell_type": "code",
   "execution_count": 5,
   "metadata": {
    "collapsed": false
   },
   "outputs": [
    {
     "data": {
      "text/plain": [
       "<matplotlib.axes._subplots.AxesSubplot at 0x1043c2810>"
      ]
     },
     "execution_count": 5,
     "metadata": {},
     "output_type": "execute_result"
    },
    {
     "data": {
      "image/png": "[encoded data removed]",
      "text/plain": [
       "<matplotlib.figure.Figure at 0x1043a8fd0>"
      ]
     },
     "metadata": {},
     "output_type": "display_data"
    }
   ],
   "source": [
    "modice.data.ix[0].plot( title='IN_Indus_at_Kotri MODICE by elevation', kind='barh',figsize=(12,8) )"
   ]
  },
  {
   "cell_type": "code",
   "execution_count": 6,
   "metadata": {
    "collapsed": false
   },
   "outputs": [
    {
     "data": {
      "text/plain": [
       "[<matplotlib.text.Text at 0x10895ea90>,\n",
       " <matplotlib.text.Text at 0x108960750>,\n",
       " <matplotlib.text.Text at 0x107adcc10>,\n",
       " <matplotlib.text.Text at 0x108c80190>,\n",
       " <matplotlib.text.Text at 0x108c808d0>,\n",
       " <matplotlib.text.Text at 0x108c8a050>,\n",
       " <matplotlib.text.Text at 0x108c8a790>,\n",
       " <matplotlib.text.Text at 0x108c8aed0>,\n",
       " <matplotlib.text.Text at 0x108c96650>]"
      ]
     },
     "execution_count": 6,
     "metadata": {},
     "output_type": "execute_result"
    },
    {
     "data": {
      "image/png": "[encoded data removed]",
      "text/plain": [
       "<matplotlib.figure.Figure at 0x10792f450>"
      ]
     },
     "metadata": {},
     "output_type": "display_data"
    }
   ],
   "source": [
    "fig, ax = plt.subplots(1,1)\n",
    "ax.set_title('IN_Indus_at_Kotri MODICE by elevation')\n",
    "ax.set_xlabel('MODICE Area($km^2$)')\n",
    "ax.set_ylabel('Elevation ($m$)')\n",
    "modice.data.ix[0].plot( kind='barh',figsize=(12,12))\n",
    "ax.set_yticks( ax.get_yticks()[::10] )\n",
    "ax.set_yticklabels( modice.data.columns[::10] )"
   ]
  },
  {
   "cell_type": "markdown",
   "metadata": {},
   "source": [
    "## Use this MODICE area data to run the ablation model for clean ice, which is: <br> $Q = \\sum\\limits_{i=1}^n{b_{i} A_{i}}$ <br> for  <br>$Q$ = glacier ice melt volume, $m^3$ <br>$b_{i}$ = specific ice melt at elevation band $i$, $\\frac{m}{100 m}$ <br>$A_{i}$ = clean ice area at elevation band $i$, $km^2$"
   ]
  },
  {
   "cell_type": "markdown",
   "metadata": {},
   "source": [
    "Ref: Racoviteanu, A. E., R. Armstrong, and M. W. Williams (2013), Evaluation of an ice ablation model to estimate the contribution of melting glacier ice to annual discharge in the Nepal Himalaya, Water Resour. Res., 49, 5117–5133, doi:10.1002/wrcr.20370."
   ]
  },
  {
   "cell_type": "code",
   "execution_count": 7,
   "metadata": {
    "collapsed": false
   },
   "outputs": [],
   "source": [
    "import racovite_ablation_model\n",
    "reload( racovite_ablation_model )\n",
    "melt = racovite_ablation_model.run( modice, 5000., 0.6 )"
   ]
  },
  {
   "cell_type": "code",
   "execution_count": 8,
   "metadata": {
    "collapsed": false
   },
   "outputs": [
    {
     "data": {
      "text/html": [
       "<div>\n",
       "<table border=\"1\" class=\"dataframe\">\n",
       "  <thead>\n",
       "    <tr style=\"text-align: right;\">\n",
       "      <th></th>\n",
       "      <th>0.</th>\n",
       "      <th>100.</th>\n",
       "      <th>200.</th>\n",
       "      <th>300.</th>\n",
       "      <th>400.</th>\n",
       "      <th>500.</th>\n",
       "      <th>600.</th>\n",
       "      <th>700.</th>\n",
       "      <th>800.</th>\n",
       "      <th>900.</th>\n",
       "      <th>1000.</th>\n",
       "      <th>1100.</th>\n",
       "      <th>1200.</th>\n",
       "      <th>1300.</th>\n",
       "      <th>1400.</th>\n",
       "      <th>1500.</th>\n",
       "      <th>1600.</th>\n",
       "      <th>1700.</th>\n",
       "      <th>1800.</th>\n",
       "      <th>1900.</th>\n",
       "      <th>2000.</th>\n",
       "      <th>2100.</th>\n",
       "      <th>2200.</th>\n",
       "      <th>2300.</th>\n",
       "      <th>2400.</th>\n",
       "      <th>2500.</th>\n",
       "      <th>2600.</th>\n",
       "      <th>2700.</th>\n",
       "      <th>2800.</th>\n",
       "      <th>2900.</th>\n",
       "      <th>3000.</th>\n",
       "      <th>3100.</th>\n",
       "      <th>3200.</th>\n",
       "      <th>3300.</th>\n",
       "      <th>3400.</th>\n",
       "      <th>3500.</th>\n",
       "      <th>3600.</th>\n",
       "      <th>3700.</th>\n",
       "      <th>3800.</th>\n",
       "      <th>3900.</th>\n",
       "      <th>4000.</th>\n",
       "      <th>4100.</th>\n",
       "      <th>4200.</th>\n",
       "      <th>4300.</th>\n",
       "      <th>4400.</th>\n",
       "      <th>4500.</th>\n",
       "      <th>4600.</th>\n",
       "      <th>4700.</th>\n",
       "      <th>4800.</th>\n",
       "      <th>4900.</th>\n",
       "      <th>5000.</th>\n",
       "      <th>5100.</th>\n",
       "      <th>5200.</th>\n",
       "      <th>5300.</th>\n",
       "      <th>5400.</th>\n",
       "      <th>5500.</th>\n",
       "      <th>5600.</th>\n",
       "      <th>5700.</th>\n",
       "      <th>5800.</th>\n",
       "      <th>5900.</th>\n",
       "      <th>6000.</th>\n",
       "      <th>6100.</th>\n",
       "      <th>6200.</th>\n",
       "      <th>6300.</th>\n",
       "      <th>6400.</th>\n",
       "      <th>6500.</th>\n",
       "      <th>6600.</th>\n",
       "      <th>6700.</th>\n",
       "      <th>6800.</th>\n",
       "      <th>6900.</th>\n",
       "      <th>7000.</th>\n",
       "      <th>7100.</th>\n",
       "      <th>7200.</th>\n",
       "      <th>7300.</th>\n",
       "      <th>7400.</th>\n",
       "      <th>7500.</th>\n",
       "      <th>7600.</th>\n",
       "      <th>7700.</th>\n",
       "      <th>7800.</th>\n",
       "      <th>7900.</th>\n",
       "      <th>8000.</th>\n",
       "      <th>8100.</th>\n",
       "      <th>8200.</th>\n",
       "      <th>8300.</th>\n",
       "    </tr>\n",
       "    <tr>\n",
       "      <th>Date</th>\n",
       "      <th></th>\n",
       "      <th></th>\n",
       "      <th></th>\n",
       "      <th></th>\n",
       "      <th></th>\n",
       "      <th></th>\n",
       "      <th></th>\n",
       "      <th></th>\n",
       "      <th></th>\n",
       "      <th></th>\n",
       "      <th></th>\n",
       "      <th></th>\n",
       "      <th></th>\n",
       "      <th></th>\n",
       "      <th></th>\n",
       "      <th></th>\n",
       "      <th></th>\n",
       "      <th></th>\n",
       "      <th></th>\n",
       "      <th></th>\n",
       "      <th></th>\n",
       "      <th></th>\n",
       "      <th></th>\n",
       "      <th></th>\n",
       "      <th></th>\n",
       "      <th></th>\n",
       "      <th></th>\n",
       "      <th></th>\n",
       "      <th></th>\n",
       "      <th></th>\n",
       "      <th></th>\n",
       "      <th></th>\n",
       "      <th></th>\n",
       "      <th></th>\n",
       "      <th></th>\n",
       "      <th></th>\n",
       "      <th></th>\n",
       "      <th></th>\n",
       "      <th></th>\n",
       "      <th></th>\n",
       "      <th></th>\n",
       "      <th></th>\n",
       "      <th></th>\n",
       "      <th></th>\n",
       "      <th></th>\n",
       "      <th></th>\n",
       "      <th></th>\n",
       "      <th></th>\n",
       "      <th></th>\n",
       "      <th></th>\n",
       "      <th></th>\n",
       "      <th></th>\n",
       "      <th></th>\n",
       "      <th></th>\n",
       "      <th></th>\n",
       "      <th></th>\n",
       "      <th></th>\n",
       "      <th></th>\n",
       "      <th></th>\n",
       "      <th></th>\n",
       "      <th></th>\n",
       "      <th></th>\n",
       "      <th></th>\n",
       "      <th></th>\n",
       "      <th></th>\n",
       "      <th></th>\n",
       "      <th></th>\n",
       "      <th></th>\n",
       "      <th></th>\n",
       "      <th></th>\n",
       "      <th></th>\n",
       "      <th></th>\n",
       "      <th></th>\n",
       "      <th></th>\n",
       "      <th></th>\n",
       "      <th></th>\n",
       "      <th></th>\n",
       "      <th></th>\n",
       "      <th></th>\n",
       "      <th></th>\n",
       "      <th></th>\n",
       "      <th></th>\n",
       "      <th></th>\n",
       "      <th></th>\n",
       "    </tr>\n",
       "  </thead>\n",
       "  <tbody>\n",
       "    <tr>\n",
       "      <th>NaN</th>\n",
       "      <td>0</td>\n",
       "      <td>0</td>\n",
       "      <td>0</td>\n",
       "      <td>0</td>\n",
       "      <td>0</td>\n",
       "      <td>0</td>\n",
       "      <td>0</td>\n",
       "      <td>0</td>\n",
       "      <td>0</td>\n",
       "      <td>0</td>\n",
       "      <td>0</td>\n",
       "      <td>0</td>\n",
       "      <td>0</td>\n",
       "      <td>0.004662</td>\n",
       "      <td>0</td>\n",
       "      <td>0</td>\n",
       "      <td>0</td>\n",
       "      <td>0</td>\n",
       "      <td>0</td>\n",
       "      <td>0</td>\n",
       "      <td>0</td>\n",
       "      <td>0</td>\n",
       "      <td>0</td>\n",
       "      <td>0</td>\n",
       "      <td>0</td>\n",
       "      <td>0</td>\n",
       "      <td>0</td>\n",
       "      <td>0</td>\n",
       "      <td>0</td>\n",
       "      <td>0.005418</td>\n",
       "      <td>0.01032</td>\n",
       "      <td>0.019608</td>\n",
       "      <td>0.037044</td>\n",
       "      <td>0.041616</td>\n",
       "      <td>0.04944</td>\n",
       "      <td>0.06372</td>\n",
       "      <td>0.081144</td>\n",
       "      <td>0.088764</td>\n",
       "      <td>0.111312</td>\n",
       "      <td>0.148764</td>\n",
       "      <td>0.24216</td>\n",
       "      <td>0.365148</td>\n",
       "      <td>0.566688</td>\n",
       "      <td>0.962892</td>\n",
       "      <td>1.407996</td>\n",
       "      <td>1.80441</td>\n",
       "      <td>2.057112</td>\n",
       "      <td>2.082996</td>\n",
       "      <td>1.710396</td>\n",
       "      <td>1.016454</td>\n",
       "      <td>-0</td>\n",
       "      <td>0</td>\n",
       "      <td>0</td>\n",
       "      <td>0</td>\n",
       "      <td>0</td>\n",
       "      <td>0</td>\n",
       "      <td>0</td>\n",
       "      <td>0</td>\n",
       "      <td>0</td>\n",
       "      <td>0</td>\n",
       "      <td>0</td>\n",
       "      <td>0</td>\n",
       "      <td>0</td>\n",
       "      <td>0</td>\n",
       "      <td>0</td>\n",
       "      <td>0</td>\n",
       "      <td>0</td>\n",
       "      <td>0</td>\n",
       "      <td>0</td>\n",
       "      <td>0</td>\n",
       "      <td>0</td>\n",
       "      <td>0</td>\n",
       "      <td>0</td>\n",
       "      <td>0</td>\n",
       "      <td>0</td>\n",
       "      <td>0</td>\n",
       "      <td>0</td>\n",
       "      <td>0</td>\n",
       "      <td>0</td>\n",
       "      <td>0</td>\n",
       "      <td>0</td>\n",
       "      <td>0</td>\n",
       "      <td>0</td>\n",
       "      <td>0</td>\n",
       "    </tr>\n",
       "  </tbody>\n",
       "</table>\n",
       "</div>"
      ],
      "text/plain": [
       "      0.  100.  200.  300.  400.  500.  600.  700.  800.  900.  1000.  1100.  1200.     1300.  1400.  1500.  1600.  1700.  1800.  1900.  2000.  2100.  2200.  2300.  2400.  2500.  2600.  2700.  \\\n",
       "Date                                                                                                                                                                                              \n",
       "NaN    0     0     0     0     0     0     0     0     0     0      0      0      0  0.004662      0      0      0      0      0      0      0      0      0      0      0      0      0      0   \n",
       "\n",
       "      2800.     2900.    3000.     3100.     3200.     3300.    3400.    3500.     3600.     3700.     3800.     3900.    4000.     4100.     4200.     4300.     4400.    4500.     4600.     4700.  \\\n",
       "Date                                                                                                                                                                                                   \n",
       "NaN       0  0.005418  0.01032  0.019608  0.037044  0.041616  0.04944  0.06372  0.081144  0.088764  0.111312  0.148764  0.24216  0.365148  0.566688  0.962892  1.407996  1.80441  2.057112  2.082996   \n",
       "\n",
       "         4800.     4900.  5000.  5100.  5200.  5300.  5400.  5500.  5600.  5700.  5800.  5900.  6000.  6100.  6200.  6300.  6400.  6500.  6600.  6700.  6800.  6900.  7000.  7100.  7200.  7300.  \\\n",
       "Date                                                                                                                                                                                               \n",
       "NaN   1.710396  1.016454     -0      0      0      0      0      0      0      0      0      0      0      0      0      0      0      0      0      0      0      0      0      0      0      0   \n",
       "\n",
       "      7400.  7500.  7600.  7700.  7800.  7900.  8000.  8100.  8200.  8300.  \n",
       "Date                                                                        \n",
       "NaN       0      0      0      0      0      0      0      0      0      0  "
      ]
     },
     "execution_count": 8,
     "metadata": {},
     "output_type": "execute_result"
    }
   ],
   "source": [
    "melt.data"
   ]
  },
  {
   "cell_type": "code",
   "execution_count": 9,
   "metadata": {
    "collapsed": false
   },
   "outputs": [
    {
     "data": {
      "text/plain": [
       "Date\n",
       "NaN    2.082996\n",
       "dtype: float64"
      ]
     },
     "execution_count": 9,
     "metadata": {},
     "output_type": "execute_result"
    }
   ],
   "source": [
    "melt.data.max(axis=1)"
   ]
  },
  {
   "cell_type": "code",
   "execution_count": 10,
   "metadata": {
    "collapsed": false
   },
   "outputs": [
    {
     "data": {
      "text/plain": [
       "['Ablation gradient melt by elevation, km^3']"
      ]
     },
     "execution_count": 10,
     "metadata": {},
     "output_type": "execute_result"
    }
   ],
   "source": [
    "melt.comments"
   ]
  },
  {
   "cell_type": "code",
   "execution_count": 11,
   "metadata": {
    "collapsed": false
   },
   "outputs": [],
   "source": [
    "melt.comments.append( \"ELA=500m\" )"
   ]
  },
  {
   "cell_type": "code",
   "execution_count": 12,
   "metadata": {
    "collapsed": false
   },
   "outputs": [],
   "source": [
    "melt.comments.append( \"db/dz=0.6m/100m\" )"
   ]
  },
  {
   "cell_type": "code",
   "execution_count": 13,
   "metadata": {
    "collapsed": false
   },
   "outputs": [
    {
     "data": {
      "text/plain": [
       "['Ablation gradient melt by elevation, km^3', 'ELA=500m', 'db/dz=0.6m/100m']"
      ]
     },
     "execution_count": 13,
     "metadata": {},
     "output_type": "execute_result"
    }
   ],
   "source": [
    "melt.comments"
   ]
  },
  {
   "cell_type": "code",
   "execution_count": 14,
   "metadata": {
    "collapsed": false
   },
   "outputs": [
    {
     "name": "stdout",
     "output_type": "stream",
     "text": [
      "hypsometry: wrote hypsometry data to modice_area_by_elev/IN_Indus_at_Kotri.0100m.racovite_clean_ice_melt_by_elev.txt\n",
      "hypsometry: 3 comments.\n",
      "hypsometry: 1 dates.\n",
      "hypsometry: 84 elevations.\n"
     ]
    }
   ],
   "source": [
    "out_filename = \"modice_area_by_elev/IN_Indus_at_Kotri.0100m.racovite_clean_ice_melt_by_elev.txt\"\n",
    "melt.write( out_filename, verbose=True )"
   ]
  },
  {
   "cell_type": "code",
   "execution_count": 15,
   "metadata": {
    "collapsed": false
   },
   "outputs": [
    {
     "name": "stdout",
     "output_type": "stream",
     "text": [
      "# Ablation gradient melt by elevation, km^3\r\n",
      "# ELA=500m\r\n",
      "# db/dz=0.6m/100m\r\n",
      "84\r\n",
      "0. 100. 200. 300. 400. 500. 600. 700. 800. 900. 1000. 1100. 1200. 1300. 1400. 1500. 1600. 1700. 1800. 1900. 2000. 2100. 2200. 2300. 2400. 2500. 2600. 2700. 2800. 2900. 3000. 3100. 3200. 3300. 3400. 3500. 3600. 3700. 3800. 3900. 4000. 4100. 4200. 4300. 4400. 4500. 4600. 4700. 4800. 4900. 5000. 5100. 5200. 5300. 5400. 5500. 5600. 5700. 5800. 5900. 6000. 6100. 6200. 6300. 6400. 6500. 6600. 6700. 6800. 6900. 7000. 7100. 7200. 7300. 7400. 7500. 7600. 7700. 7800. 7900. 8000. 8100. 8200. 8300.\r\n",
      "9999 99 99 999 0.000000 0.000000 0.000000 0.000000 0.000000 0.000000 0.000000 0.000000 0.000000 0.000000 0.000000 0.000000 0.000000 0.004662 0.000000 0.000000 0.000000 0.000000 0.000000 0.000000 0.000000 0.000000 0.000000 0.000000 0.000000 0.000000 0.000000 0.000000 0.000000 0.005418 0.010320 0.019608 0.037044 0.041616 0.049440 0.063720 0.081144 0.088764 0.111312 0.148764 0.242160 0.365148 0.566688 0.962892 1.407996 1.804410 2.057112 2.082996 1.710396 1.016454 -0.000000 0.000000 0.000000 0.000000 0.000000 0.000000 0.000000 0.000000 0.000000 0.000000 0.000000 0.000000 0.000000 0.000000 0.000000 0.000000 0.000000 0.000000 0.000000 0.000000 0.000000 0.000000 0.000000 0.000000 0.000000 0.000000 0.000000 0.000000 0.000000 0.000000 0.000000 0.000000 0.000000 0.000000\r\n"
     ]
    }
   ],
   "source": [
    "!cat modice_area_by_elev/IN_Indus_at_Kotri.0100m.racovite_clean_ice_melt_by_elev.txt"
   ]
  },
  {
   "cell_type": "code",
   "execution_count": 16,
   "metadata": {
    "collapsed": false
   },
   "outputs": [
    {
     "data": {
      "text/plain": [
       "<matplotlib.axes._subplots.AxesSubplot at 0x107a71e90>"
      ]
     },
     "execution_count": 16,
     "metadata": {},
     "output_type": "execute_result"
    },
    {
     "data": {
      "image/png": "[encoded data removed]",
      "text/plain": [
       "<matplotlib.figure.Figure at 0x107a57110>"
      ]
     },
     "metadata": {},
     "output_type": "display_data"
    }
   ],
   "source": [
    "melt.data.ix[0].plot( title='IN_Indus_at_Kotri ablation melt by elevation', kind='barh',figsize=(12,8) )"
   ]
  },
  {
   "cell_type": "code",
   "execution_count": 17,
   "metadata": {
    "collapsed": false
   },
   "outputs": [
    {
     "data": {
      "text/plain": [
       "2000.    0.000000\n",
       "2100.    0.000000\n",
       "2200.    0.000000\n",
       "2300.    0.000000\n",
       "2400.    0.000000\n",
       "2500.    0.000000\n",
       "2600.    0.000000\n",
       "2700.    0.000000\n",
       "2800.    0.000000\n",
       "2900.    0.005418\n",
       "3000.    0.010320\n",
       "3100.    0.019608\n",
       "3200.    0.037044\n",
       "3300.    0.041616\n",
       "3400.    0.049440\n",
       "3500.    0.063720\n",
       "3600.    0.081144\n",
       "3700.    0.088764\n",
       "3800.    0.111312\n",
       "3900.    0.148764\n",
       "4000.    0.242160\n",
       "4100.    0.365148\n",
       "4200.    0.566688\n",
       "4300.    0.962892\n",
       "4400.    1.407996\n",
       "4500.    1.804410\n",
       "4600.    2.057112\n",
       "4700.    2.082996\n",
       "4800.    1.710396\n",
       "4900.    1.016454\n",
       "5000.   -0.000000\n",
       "5100.    0.000000\n",
       "5200.    0.000000\n",
       "5300.    0.000000\n",
       "5400.    0.000000\n",
       "5500.    0.000000\n",
       "5600.    0.000000\n",
       "5700.    0.000000\n",
       "5800.    0.000000\n",
       "5900.    0.000000\n",
       "dtype: float64"
      ]
     },
     "execution_count": 17,
     "metadata": {},
     "output_type": "execute_result"
    }
   ],
   "source": [
    "subset = melt.data[melt.data.columns[20:60]].ix[0]\n",
    "subset"
   ]
  },
  {
   "cell_type": "code",
   "execution_count": 18,
   "metadata": {
    "collapsed": false
   },
   "outputs": [
    {
     "data": {
      "text/plain": [
       "'Total melt=12.88 $km^3$'"
      ]
     },
     "execution_count": 18,
     "metadata": {},
     "output_type": "execute_result"
    }
   ],
   "source": [
    "label = 'Total melt=%.2f $km^3$' % ( melt.data.sum( axis=1 ).values[ 0 ] )\n",
    "label"
   ]
  },
  {
   "cell_type": "code",
   "execution_count": 19,
   "metadata": {
    "collapsed": false
   },
   "outputs": [
    {
     "data": {
      "text/plain": [
       "<matplotlib.legend.Legend at 0x1097ecc50>"
      ]
     },
     "execution_count": 19,
     "metadata": {},
     "output_type": "execute_result"
    },
    {
     "data": {
      "image/png": "[encoded data removed]",
      "text/plain": [
       "<matplotlib.figure.Figure at 0x108c74210>"
      ]
     },
     "metadata": {},
     "output_type": "display_data"
    }
   ],
   "source": [
    "subset = melt.data[melt.data.columns[20:60]].ix[0]\n",
    "fig, ax = plt.subplots(1,1)\n",
    "ax.set_title('IN_Indus_at_Kotri ablation model melt from MODICE')\n",
    "ax.set_xlabel('Melt ($km^3$)')\n",
    "ax.set_ylabel('Elevation ($m$)')\n",
    "#melt.data.ix[0].plot( title='IN_Indus_at_Kotri ablation melt by elevation', kind='barh',figsize=(12,12))\n",
    "subset.plot( title='IN_Indus_at_Kotri ablation melt by elevation', kind='barh',figsize=(12,12), label=label)\n",
    "ax.set_yticks( ax.get_yticks()[::10] )\n",
    "ax.set_yticklabels( subset.index[::10] )\n",
    "ax.legend(loc='best')"
   ]
  },
  {
   "cell_type": "markdown",
   "metadata": {},
   "source": [
    "Exercise:  There are modice files for the 5 CHARIS basins in the directory called modice_area_by_elev.  Try running each basin with the following ELA and db/dz, plot the results, and compare them.\n",
    "<table>\n",
    "    <tr>\n",
    "        <th>Basin Name</th>\n",
    "        <th>ELA (m)</th>\n",
    "        <th>db/dz (m/100m)</th>\n",
    "    </tr>\n",
    "    <tr>\n",
    "        <td>AM_AmuDarya_at_Chatly</td>\n",
    "        <td>4600</td>\n",
    "        <td>?</td>\n",
    "    </tr>\n",
    "    <tr>\n",
    "        <td>BR_Bramaputra_at_Bahadurabad</td>\n",
    "        <td>5700</td>\n",
    "        <td>0.6</td>\n",
    "    </tr>\n",
    "    <tr>\n",
    "        <td>IN_Indus_at_Kotri</td>\n",
    "        <td>5200</td>\n",
    "        <td>0.7</td>\n",
    "    </tr>\n",
    "       <tr>\n",
    "        <td>GA_Ganges_at_Paksey</td>\n",
    "        <td>5700</td>\n",
    "        <td>0.6</td>\n",
    "    </tr>\n",
    "    <tr>\n",
    "        <td>SY_SyrDarya_at_TyumenAryk</td>\n",
    "        <td>4100</td>\n",
    "        <td>??</td>\n",
    "    </tr>    \n",
    "</table>\n",
    "        "
   ]
  },
  {
   "cell_type": "code",
   "execution_count": 20,
   "metadata": {
    "collapsed": false
   },
   "outputs": [
    {
     "ename": "IOError",
     "evalue": "[Errno 2] No such file or directory: '/Users/mj/2014/AGU/ablation_gradient/charis_basin_ice_area.png'",
     "output_type": "error",
     "traceback": [
      "\u001b[0;31m---------------------------------------------------------------------------\u001b[0m",
      "\u001b[0;31mIOError\u001b[0m                                   Traceback (most recent call last)",
      "\u001b[0;32m<ipython-input-20-b90a0a36396c>\u001b[0m in \u001b[0;36m<module>\u001b[0;34m()\u001b[0m\n\u001b[1;32m     14\u001b[0m \u001b[0max\u001b[0m\u001b[0;34m.\u001b[0m\u001b[0mset_xticklabels\u001b[0m\u001b[0;34m(\u001b[0m \u001b[0mbasins\u001b[0m \u001b[0;34m)\u001b[0m\u001b[0;34m\u001b[0m\u001b[0m\n\u001b[1;32m     15\u001b[0m \u001b[0max\u001b[0m\u001b[0;34m.\u001b[0m\u001b[0mlegend\u001b[0m\u001b[0;34m(\u001b[0m\u001b[0mloc\u001b[0m\u001b[0;34m=\u001b[0m\u001b[0;34m'best'\u001b[0m\u001b[0;34m)\u001b[0m\u001b[0;34m\u001b[0m\u001b[0m\n\u001b[0;32m---> 16\u001b[0;31m \u001b[0mfig\u001b[0m\u001b[0;34m.\u001b[0m\u001b[0msavefig\u001b[0m\u001b[0;34m(\u001b[0m\u001b[0;34m'/Users/mj/2014/AGU/ablation_gradient/charis_basin_ice_area.png'\u001b[0m\u001b[0;34m,\u001b[0m \u001b[0mdpi\u001b[0m\u001b[0;34m=\u001b[0m\u001b[0;36m300\u001b[0m \u001b[0;34m)\u001b[0m  \u001b[0;31m# change filename to .pdf to save to different format\u001b[0m\u001b[0;34m\u001b[0m\u001b[0m\n\u001b[0m",
      "\u001b[0;32m//anaconda/lib/python2.7/site-packages/matplotlib/figure.pyc\u001b[0m in \u001b[0;36msavefig\u001b[0;34m(self, *args, **kwargs)\u001b[0m\n\u001b[1;32m   1474\u001b[0m             \u001b[0mself\u001b[0m\u001b[0;34m.\u001b[0m\u001b[0mset_frameon\u001b[0m\u001b[0;34m(\u001b[0m\u001b[0mframeon\u001b[0m\u001b[0;34m)\u001b[0m\u001b[0;34m\u001b[0m\u001b[0m\n\u001b[1;32m   1475\u001b[0m \u001b[0;34m\u001b[0m\u001b[0m\n\u001b[0;32m-> 1476\u001b[0;31m         \u001b[0mself\u001b[0m\u001b[0;34m.\u001b[0m\u001b[0mcanvas\u001b[0m\u001b[0;34m.\u001b[0m\u001b[0mprint_figure\u001b[0m\u001b[0;34m(\u001b[0m\u001b[0;34m*\u001b[0m\u001b[0margs\u001b[0m\u001b[0;34m,\u001b[0m \u001b[0;34m**\u001b[0m\u001b[0mkwargs\u001b[0m\u001b[0;34m)\u001b[0m\u001b[0;34m\u001b[0m\u001b[0m\n\u001b[0m\u001b[1;32m   1477\u001b[0m \u001b[0;34m\u001b[0m\u001b[0m\n\u001b[1;32m   1478\u001b[0m         \u001b[0;32mif\u001b[0m \u001b[0mframeon\u001b[0m\u001b[0;34m:\u001b[0m\u001b[0;34m\u001b[0m\u001b[0m\n",
      "\u001b[0;32m//anaconda/lib/python2.7/site-packages/matplotlib/backend_bases.pyc\u001b[0m in \u001b[0;36mprint_figure\u001b[0;34m(self, filename, dpi, facecolor, edgecolor, orientation, format, **kwargs)\u001b[0m\n\u001b[1;32m   2209\u001b[0m                 \u001b[0morientation\u001b[0m\u001b[0;34m=\u001b[0m\u001b[0morientation\u001b[0m\u001b[0;34m,\u001b[0m\u001b[0;34m\u001b[0m\u001b[0m\n\u001b[1;32m   2210\u001b[0m                 \u001b[0mbbox_inches_restore\u001b[0m\u001b[0;34m=\u001b[0m\u001b[0m_bbox_inches_restore\u001b[0m\u001b[0;34m,\u001b[0m\u001b[0;34m\u001b[0m\u001b[0m\n\u001b[0;32m-> 2211\u001b[0;31m                 **kwargs)\n\u001b[0m\u001b[1;32m   2212\u001b[0m         \u001b[0;32mfinally\u001b[0m\u001b[0;34m:\u001b[0m\u001b[0;34m\u001b[0m\u001b[0m\n\u001b[1;32m   2213\u001b[0m             \u001b[0;32mif\u001b[0m \u001b[0mbbox_inches\u001b[0m \u001b[0;32mand\u001b[0m \u001b[0mrestore_bbox\u001b[0m\u001b[0;34m:\u001b[0m\u001b[0;34m\u001b[0m\u001b[0m\n",
      "\u001b[0;32m//anaconda/lib/python2.7/site-packages/matplotlib/backends/backend_agg.pyc\u001b[0m in \u001b[0;36mprint_png\u001b[0;34m(self, filename_or_obj, *args, **kwargs)\u001b[0m\n\u001b[1;32m    524\u001b[0m         \u001b[0mrenderer\u001b[0m\u001b[0;34m.\u001b[0m\u001b[0mdpi\u001b[0m \u001b[0;34m=\u001b[0m \u001b[0mself\u001b[0m\u001b[0;34m.\u001b[0m\u001b[0mfigure\u001b[0m\u001b[0;34m.\u001b[0m\u001b[0mdpi\u001b[0m\u001b[0;34m\u001b[0m\u001b[0m\n\u001b[1;32m    525\u001b[0m         \u001b[0;32mif\u001b[0m \u001b[0mis_string_like\u001b[0m\u001b[0;34m(\u001b[0m\u001b[0mfilename_or_obj\u001b[0m\u001b[0;34m)\u001b[0m\u001b[0;34m:\u001b[0m\u001b[0;34m\u001b[0m\u001b[0m\n\u001b[0;32m--> 526\u001b[0;31m             \u001b[0mfilename_or_obj\u001b[0m \u001b[0;34m=\u001b[0m \u001b[0mopen\u001b[0m\u001b[0;34m(\u001b[0m\u001b[0mfilename_or_obj\u001b[0m\u001b[0;34m,\u001b[0m \u001b[0;34m'wb'\u001b[0m\u001b[0;34m)\u001b[0m\u001b[0;34m\u001b[0m\u001b[0m\n\u001b[0m\u001b[1;32m    527\u001b[0m             \u001b[0mclose\u001b[0m \u001b[0;34m=\u001b[0m \u001b[0mTrue\u001b[0m\u001b[0;34m\u001b[0m\u001b[0m\n\u001b[1;32m    528\u001b[0m         \u001b[0;32melse\u001b[0m\u001b[0;34m:\u001b[0m\u001b[0;34m\u001b[0m\u001b[0m\n",
      "\u001b[0;31mIOError\u001b[0m: [Errno 2] No such file or directory: '/Users/mj/2014/AGU/ablation_gradient/charis_basin_ice_area.png'"
     ]
    },
    {
     "data": {
      "image/png": "[encoded data removed]",
      "text/plain": [
       "<matplotlib.figure.Figure at 0x1099d5c50>"
      ]
     },
     "metadata": {},
     "output_type": "display_data"
    }
   ],
   "source": [
    "basins = [ 'AM', 'SY', 'IN', 'GA', 'BR' ]\n",
    "x1 = numpy.array( [ 1, 2, 3, 4, 5 ] )\n",
    "x2 = x1 + 0.25\n",
    "x3 = x2 + 0.25\n",
    "area = numpy.array( [ 448967., 249068., 844673., 943244., 514184. ] )\n",
    "ice = numpy.array( [ 12343.5, 2398.14, 29858.8, 10812.1, 18678.7 ] )\n",
    "fig, ax = plt.subplots(1,1)\n",
    "figsize( 12, 8 )\n",
    "ax.set_title('CHARIS Basins')\n",
    "ax.set_ylabel('Area (x $10^3$ $km^2$)')\n",
    "plt.bar( x2, area / 1000., width=0.25, color='grey', label='Basin Area' )\n",
    "plt.bar( x3, ice / 1000., width=0.25, color='blue', label='MODICE' )\n",
    "ax.set_xticks( x3 )\n",
    "ax.set_xticklabels( basins )\n",
    "ax.legend(loc='best')\n",
    "fig.savefig('/Users/mj/2014/AGU/ablation_gradient/charis_basin_ice_area.png', dpi=300 )  # change filename to .pdf to save to different format\n"
   ]
  },
  {
   "cell_type": "code",
   "execution_count": null,
   "metadata": {
    "collapsed": false
   },
   "outputs": [],
   "source": [
    "basins = [ 'AM', 'SY', 'IN', 'GA', 'BR' ]\n",
    "\n",
    "x1 = numpy.array( [ 1, 2, 3, 4, 5 ] )\n",
    "x2 = x1 + 0.25\n",
    "x3 = x2 + 0.25\n",
    "discharge = numpy.array( [ 43.2, 16.6, 90.5, 379.9, 690.5 ] )\n",
    "discharge_stdev = numpy.array( [ 11.4, 8.1, 24.9, 77.4, 122.2 ] )\n",
    "total = numpy.array( [ 100., 100., 100., 100., 100. ] )\n",
    "high_melt = numpy.array( [ 9.2, 1.5, 42.6, 22.2, 88.5 ] )\n",
    "mid_high_melt = numpy.array( [ 6.1, 1.0, 31.8, 15.6, 66.7 ] )\n",
    "mid_low_melt = numpy.array( [ 5.2, 0.6, 23.8, 13.6, 63.2 ] )\n",
    "low_melt = numpy.array( [ 3.4, 0.4, 17.7, 9.6, 47.6 ] )\n",
    "\n",
    "#melt = numpy.array()\n",
    "fig, ax = plt.subplots(1,1)\n",
    "figsize( 12, 8 )\n",
    "ax.set_title('Modeled Ice Melt (% of GRDC Discharge)', fontsize=20 )\n",
    "ax.set_ylabel('% of Measured Discharge', fontsize=20 )\n",
    "ax.set_ylim( [0,55] )\n",
    "ax.set_xlim( [0,6] )\n",
    "plt.plot( x1, high_melt / discharge * 100., linestyle='', markersize=20., marker='o', color='blue' )\n",
    "\n",
    "plt.plot( x1, mid_high_melt / discharge * 100., linestyle='', markersize=20., marker='o', color='blue' )\n",
    "plt.plot( x1, mid_low_melt / discharge * 100., linestyle='', markersize=20., marker='o', color='blue' )\n",
    "plt.plot( x1, low_melt / discharge * 100., linestyle='', markersize=20., marker='o', color='blue' )\n",
    "plt.text( 1, high_melt[0] / discharge[0] * 100. + 2., str(discharge[0])+' +/- '+str(discharge_stdev[0])+\" $km^3$\", horizontalalignment='center', fontsize=20 )\n",
    "plt.text( 2, high_melt[1] / discharge[1] * 100. + 2., str(discharge[1])+' +/- '+str(discharge_stdev[1])+\" $km^3$\", horizontalalignment='center', fontsize=20 )\n",
    "plt.text( 3, high_melt[2] / discharge[2] * 100. + 2., str(discharge[2])+' +/- '+str(discharge_stdev[2])+\" $km^3$\", horizontalalignment='center', fontsize=20 )\n",
    "plt.text( 4, high_melt[3] / discharge[3] * 100. + 2., str(discharge[3])+' +/- '+str(discharge_stdev[3])+\" $km^3$\", horizontalalignment='center', fontsize=20 )\n",
    "plt.text( 5, high_melt[4] / discharge[4] * 100. + 2., str(discharge[4])+' +/- '+str(discharge_stdev[4])+\" $km^3$\", horizontalalignment='center', fontsize=20 )\n",
    "ax.set_xticks( x1 )\n",
    "ax.set_xticklabels( basins, fontsize=20 )\n",
    "ax.set_yticklabels( numpy.array([0,10,20,30,40,50]), fontsize=20 )\n",
    "fig.savefig('/Users/brodzik/2014/AGU/ablation_gradient/charis_discharge_vs_ice_melt.ps', dpi=300 )  # change filename to .pdf to save to different format\n"
   ]
  },
  {
   "cell_type": "code",
   "execution_count": null,
   "metadata": {
    "collapsed": false
   },
   "outputs": [],
   "source": [
    "k"
   ]
  }
 ],
 "metadata": {
  "kernelspec": {
   "display_name": "Python 2",
   "language": "python",
   "name": "python2"
  },
  "language_info": {
   "codemirror_mode": {
    "name": "ipython",
    "version": 2
   },
   "file_extension": ".py",
   "mimetype": "text/x-python",
   "name": "python",
   "nbconvert_exporter": "python",
   "pygments_lexer": "ipython2",
   "version": "2.7.10"
  }
 },
 "nbformat": 4,
 "nbformat_minor": 0
}
