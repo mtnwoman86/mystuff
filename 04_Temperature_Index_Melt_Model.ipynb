{
 "metadata": {
  "name": "",
  "signature": "sha256:b664fdb80225562c6bcb9b98340ea7f24528681ee502a6d74af9ecbb3313d993"
 },
 "nbformat": 3,
 "nbformat_minor": 0,
 "worksheets": [
  {
   "cells": [
    {
     "cell_type": "heading",
     "level": 1,
     "metadata": {},
     "source": [
      "Running a simple temperature index model"
     ]
    },
    {
     "cell_type": "heading",
     "level": 2,
     "metadata": {},
     "source": [
      "<i><p>Purpose of this notebook:  Introduce you to:\n",
      "    <ol>\n",
      "        <li> Using the CHARIS hypsometry format data to do temperature-index-model melt calculations, by date and elevation</li>\n",
      "        <li> Some more complicated versions of the model that we are investigating (ongoing work)</li>\n",
      "    </ol>\n",
      "</p>    \n",
      "<p>At the end of this lesson, you should be able to read some related hypsometry files, and:\n",
      "    <ol>\n",
      "        <li> perform (slightly) more complicated functions on data by date and elevation\n",
      "        <li> display modeled melt output by date, compared to measured discharge\n",
      "    </ol>\n",
      "</p></i>"
     ]
    },
    {
     "cell_type": "heading",
     "level": 3,
     "metadata": {},
     "source": [
      "Simple (snow only) temperature index model"
     ]
    },
    {
     "cell_type": "markdown",
     "metadata": {},
     "source": [
      "A basic temperature index model will use inputs:\n",
      "\n",
      "<ol>\n",
      "    <li> SCA hypsometry (SCA area (km^2) elevation by date) \n",
      "    <li> Temperature hypsometry (elevation by date, downscaled from reanalysis)\n",
      "    <li> Degree-day factor ($DDF_{snow}$), for example, 7 $mm\\text{ }day^{-1}\\text{ }^oC^{-1}$\n",
      "</ol>\n",
      "\n",
      "and calculate melt for each date and elevation as:\n",
      "\n",
      "$Melt (km^3) = 0, if T <= 0^oC$\n",
      "\n",
      "$Melt (km^3) = \\frac \n",
      "    { A_{snow}(km^2) \\text{ } T(^oC) \\text{ } DDF_{snow}(mm\\text{ }day^{-1}\\text{ }^oC^{-1}) }\n",
      "    {10^6(mm\\text{ }km^{-1})}, if T > 0^oC $\n",
      "\n",
      "So, we can read SCA data by date and elevation and Temperature data by date and elevation, and do calculations in the DataFrame space.\n"
     ]
    },
    {
     "cell_type": "markdown",
     "metadata": {},
     "source": [
      "For a range of measured DDFs at various global locations, see Table 1 of:\n",
      "\n",
      "Ref. Hock, R. (2003). Temperature index melt modelling in mountain areas. Journal of Hydrology, 282, 104-115."
     ]
    },
    {
     "cell_type": "code",
     "collapsed": false,
     "input": [
      "%pylab inline\n",
      "import numpy as np\n",
      "import matplotlib.pyplot as plt\n",
      "import pandas as pd\n",
      "from imp import reload\n",
      "pd.set_option('display.max_rows', 10)\n",
      "pd.set_option('display.max_columns', 90)\n",
      "pd.set_option('display.width', 200)"
     ],
     "language": "python",
     "metadata": {},
     "outputs": []
    },
    {
     "cell_type": "markdown",
     "metadata": {},
     "source": [
      "I have prepared sample SCA data for the Hunza sub-basin of the UIB, and some of Andy Barrett's downscaled temperature data for the same subbasin."
     ]
    },
    {
     "cell_type": "code",
     "collapsed": false,
     "input": [
      "import hypsometry\n",
      "reload(hypsometry)\n",
      "sca_filename = \"modscag_gf_by_year/v01/IN_Hunza_at_Danyour.0100m.modscag_gf_covered_area_by_elev.day.2001to2001.v2.asc\"\n",
      "temperature_filename = \"forcing_data/ERA-Interim/air_temperature/derived/hunza_era_interim_t2m_profile_100m.2001.dscale.asc\"\n",
      "sca = hypsometry.Hypsometry()\n",
      "sca.read( sca_filename, verbose=True )\n",
      "temp = hypsometry.Hypsometry()\n",
      "temp.read( temperature_filename, verbose=True )"
     ],
     "language": "python",
     "metadata": {},
     "outputs": []
    },
    {
     "cell_type": "code",
     "collapsed": false,
     "input": [
      "print( sca.data.index )\n",
      "print( temp.data.index )"
     ],
     "language": "python",
     "metadata": {},
     "outputs": []
    },
    {
     "cell_type": "code",
     "collapsed": false,
     "input": [
      "sca.data.columns"
     ],
     "language": "python",
     "metadata": {},
     "outputs": []
    },
    {
     "cell_type": "code",
     "collapsed": false,
     "input": [
      "temp.data.columns"
     ],
     "language": "python",
     "metadata": {},
     "outputs": []
    },
    {
     "cell_type": "markdown",
     "metadata": {},
     "source": [
      "Note that the columns are not quite the same ('1400.' vs. '1450').  Andy labelled his elevation contours with the middle value of the 100 m band, and I labelled my data with a floating-point representation.  Both are Indices with strings.  We want the columns to be the same, so that we can do operations on the Data Frames and have the cells match up.  Here are a couple ways to rename DataFrame columns.\n",
      "\n",
      "The DataFrame \"rename\" function lets you rename columns or index values by defining an \"anonymous\" function lambda to operate on each value in turn.  If you leave off the copy=True, it won't change the original DataFrame."
     ]
    },
    {
     "cell_type": "code",
     "collapsed": false,
     "input": [
      "sca.data = sca.data.rename( columns=lambda x: int( float( x ) ), \n",
      "                           copy=True )\n",
      "temp.data = temp.data.rename( columns=lambda x: int( x ) - 50, \n",
      "                             copy=True ) \n",
      "print( sca.data.columns )\n",
      "print( temp.data.columns )"
     ],
     "language": "python",
     "metadata": {},
     "outputs": []
    },
    {
     "cell_type": "markdown",
     "metadata": {},
     "source": [
      "Now the columns and index values match up:"
     ]
    },
    {
     "cell_type": "code",
     "collapsed": false,
     "input": [
      "sca.data"
     ],
     "language": "python",
     "metadata": {},
     "outputs": []
    },
    {
     "cell_type": "code",
     "collapsed": false,
     "input": [
      "temp.data"
     ],
     "language": "python",
     "metadata": {},
     "outputs": []
    },
    {
     "cell_type": "markdown",
     "metadata": {},
     "source": [
      "<hr>\n",
      "But the temperatures are in Kelvin, and I want degrees Celsius, so:"
     ]
    },
    {
     "cell_type": "code",
     "collapsed": false,
     "input": [
      "temp.data = temp.data - 273.15\n",
      "temp.data"
     ],
     "language": "python",
     "metadata": {},
     "outputs": []
    },
    {
     "cell_type": "markdown",
     "metadata": {},
     "source": [
      "<hr>\n",
      "Now we can calculate melt at each cell from snow area, temperature and DDF:"
     ]
    },
    {
     "cell_type": "code",
     "collapsed": false,
     "input": [
      "snow_ddf = 7.0 # mm per day per deg C\n",
      "mm_per_km = 10.0 ** 6.\n",
      "melt = hypsometry.Hypsometry()\n",
      "melt.data = sca.data * temp.data * snow_ddf / mm_per_km\n",
      "melt.data"
     ],
     "language": "python",
     "metadata": {},
     "outputs": []
    },
    {
     "cell_type": "markdown",
     "metadata": {},
     "source": [
      "<hr>\n",
      "And calculate total melt along rows (for daily melt):"
     ]
    },
    {
     "cell_type": "code",
     "collapsed": false,
     "input": [
      "total_melt = melt.data_by_doy()\n",
      "total_melt"
     ],
     "language": "python",
     "metadata": {},
     "outputs": []
    },
    {
     "cell_type": "markdown",
     "metadata": {},
     "source": [
      "Which isn't quite what we want, since we operated on all values, even when temperature was too cold for melt to occur.  Here is one way to do it (python \"masked arrays\" might be a better to get this done.)"
     ]
    },
    {
     "cell_type": "code",
     "collapsed": false,
     "input": [
      "melt = hypsometry.Hypsometry()\n",
      "melt.data = sca.data * temp.data[ temp.data > 0. ] * snow_ddf / mm_per_km\n",
      "melt.data[ np.isnan( melt.data ) ] = 0.\n",
      "melt.data\n"
     ],
     "language": "python",
     "metadata": {},
     "outputs": []
    },
    {
     "cell_type": "markdown",
     "metadata": {},
     "source": [
      "In the previous cell, I took advantage of a boolean array to limit the operations to indices where the conditions are what I want.  Here is a small example to show how this works:"
     ]
    },
    {
     "cell_type": "code",
     "collapsed": false,
     "input": [
      "#x = pd.DataFrame( data=[ [ 1, 2 ], [ 3, 4 ] ] )\n",
      "#y = pd.DataFrame( data=[ [ 2, 2 ], [ 3, 3 ] ] )\n",
      "#y > 2\n",
      "#prod = x * y[ y > 2 ]\n",
      "#x"
     ],
     "language": "python",
     "metadata": {},
     "outputs": []
    },
    {
     "cell_type": "code",
     "collapsed": false,
     "input": [
      "#y"
     ],
     "language": "python",
     "metadata": {},
     "outputs": []
    },
    {
     "cell_type": "code",
     "collapsed": false,
     "input": [
      "#prod"
     ],
     "language": "python",
     "metadata": {},
     "outputs": []
    },
    {
     "cell_type": "code",
     "collapsed": false,
     "input": [
      "#prod[ np.isnan(prod) ] = 0.\n",
      "#prod"
     ],
     "language": "python",
     "metadata": {},
     "outputs": []
    },
    {
     "cell_type": "markdown",
     "metadata": {},
     "source": [
      "<hr>\n",
      "Now we have a hypsometry.data Dataframe, with melt by elevation and date.  I'd like to plot it as a total daily melt, so I call my data_by_doy() function to get a time series:"
     ]
    },
    {
     "cell_type": "code",
     "collapsed": false,
     "input": [
      "total_melt = melt.data_by_doy()\n",
      "total_melt"
     ],
     "language": "python",
     "metadata": {},
     "outputs": []
    },
    {
     "cell_type": "markdown",
     "metadata": {},
     "source": [
      "And now plot the time series of daily melt:"
     ]
    },
    {
     "cell_type": "code",
     "collapsed": false,
     "input": [
      "fig, ax = plt.subplots(1,1)\n",
      "ax.set_title( \"Simple temperature index model melt, Hunza, 2001\" )\n",
      "ax.set_ylabel('Melt ($km^3$)')\n",
      "total_melt.plot()"
     ],
     "language": "python",
     "metadata": {},
     "outputs": []
    },
    {
     "cell_type": "heading",
     "level": 2,
     "metadata": {},
     "source": [
      "A more sophisticated model: melt snow or ice at different DDF rates"
     ]
    },
    {
     "cell_type": "markdown",
     "metadata": {},
     "source": [
      "One goal of the CHARIS project is to understand the proportion of snow melt vs. ice melt, so we can define a more complicated melt model.\n",
      "\n",
      "We will use these inputs, for the Hunza subbasin of the UIB:\n",
      "<ol>\n",
      "    <li> MODICE by elevation</li>\n",
      "    <li> daily SCA by elevation</li>\n",
      "    <li> downscaled temperatures, elevation</li>\n",
      "    <li> $DDF_{snow}$ = 7 $mm\\text{ }day^{-1}\\text{ }^oC^{-1}$</li>\n",
      "    <li> $DDF_{ice}$ = 9 $mm\\text{ }day^{-1}\\text{ }^oC^{-1}$</li>\n",
      "</ol>\n",
      "\n",
      "We can define a more complicated model:\n",
      "\n",
      "For each date/elevation band:\n",
      "\n",
      "$Melt (km^3) = 0, if T <= 0^oC$\n",
      "\n",
      "otherwise, ($T > 0^oC$):\n",
      "\n",
      "then if SCA area > MODICE area, then melt SCA area using $DDF_{snow}$:\n",
      "\n",
      "$Melt (km^3) = \\frac \n",
      "    { A_{snow}(km^2) \\text{ } T(^oC) \\text{ } DDF_{snow}(mm\\text{ }day^{-1}\\text{ }^oC^{-1}) }\n",
      "    {10^6(mm\\text{ }km^{-1})}$\n",
      "\n",
      "otherwise, melt MODICE area using $DDF_{ice}$:\n",
      "\n",
      "$Melt (km^3) = \\frac \n",
      "    { A_{ice}(km^2) \\text{ } T(^oC) \\text{ } DDF_{ice}(mm\\text{ }day^{-1}\\text{ }^oC^{-1}) }\n",
      "    {10^6(mm\\text{ }km^{-1})}$\n",
      "\n",
      "\n"
     ]
    },
    {
     "cell_type": "markdown",
     "metadata": {},
     "source": [
      "We already have SCA and temperature data, so read modice, (and check/adjust the column names):"
     ]
    },
    {
     "cell_type": "code",
     "collapsed": false,
     "input": [
      "import hypsometry\n",
      "reload(hypsometry)\n",
      "modice_filename = \"modice_area_by_elev/IN_Hunza_at_Danyour.0100m.modicev03_area_by_elev.txt\"\n",
      "modice = hypsometry.Hypsometry()\n",
      "modice.read( modice_filename, verbose=True)"
     ],
     "language": "python",
     "metadata": {},
     "outputs": []
    },
    {
     "cell_type": "code",
     "collapsed": false,
     "input": [
      "modice.data = modice.data.rename( columns=lambda x: int( float( x ) ), \n",
      "                               copy=True )\n",
      "modice.data.columns"
     ],
     "language": "python",
     "metadata": {},
     "outputs": []
    },
    {
     "cell_type": "markdown",
     "metadata": {},
     "source": [
      "So we have modice for just one row, and we want to compare it to each row of the snow-covered area data, that is dates (rows) by elevations.   In order to do the math in the DataFrame space, I need to make a modice array with:\n",
      "<ol>\n",
      "    <li>column headers and row index values the same as for SCA, and</li>\n",
      "    <li>the modice data repeated for each row</li>\n",
      "</ol>\n"
     ]
    },
    {
     "cell_type": "code",
     "collapsed": false,
     "input": [
      "daily_modice = []\n",
      "for row in range( len( sca.data.index ) ):\n",
      "    daily_modice.append( modice.data.ix[0].values )\n",
      "modice.data = pd.DataFrame( data=daily_modice, index=sca.data.index, columns=sca.data.columns )\n",
      "modice.data"
     ],
     "language": "python",
     "metadata": {},
     "outputs": []
    },
    {
     "cell_type": "markdown",
     "metadata": {},
     "source": [
      "Now calculate the snow melt part, (note the logic to only calculate the values we want):"
     ]
    },
    {
     "cell_type": "code",
     "collapsed": false,
     "input": [
      "snow_ddf = 7. # mm per day per deg C\n",
      "snow_melt = hypsometry.Hypsometry()\n",
      "snow_melt.data = sca.data[ (sca.data > modice.data) & ( temp.data > 0.) ] * temp.data * snow_ddf / mm_per_km\n",
      "snow_melt.data[ np.isnan( snow_melt.data ) ] = 0.\n",
      "snow_melt.comments.append( \"Melt from snow, at \" + str( snow_ddf ) + \" mm/day/degC\" )\n",
      "snow_melt.data"
     ],
     "language": "python",
     "metadata": {},
     "outputs": []
    },
    {
     "cell_type": "code",
     "collapsed": false,
     "input": [
      "ice_ddf = 9. # mm per day per deg C\n",
      "ice_melt = hypsometry.Hypsometry()\n",
      "ice_melt.data = modice.data[ (sca.data <= modice.data) & ( temp.data > 0.) ] * temp.data * ice_ddf / mm_per_km\n",
      "ice_melt.data[ np.isnan( ice_melt.data ) ] = 0.\n",
      "ice_melt.comments.append( \"Melt from ice, at \" + str( ice_ddf ) + \" mm/day/degC\" )\n",
      "ice_melt.data"
     ],
     "language": "python",
     "metadata": {},
     "outputs": []
    },
    {
     "cell_type": "code",
     "collapsed": false,
     "input": [
      "total_snow_melt = snow_melt.data_by_doy()\n",
      "fig, ax = plt.subplots(1,1)\n",
      "ax.set_title( \"Snow/Ice temperature index model melt from snow, Hunza, 2001\" )\n",
      "ax.set_ylabel('Melt ($km^3$)')\n",
      "total_snow_melt.plot()"
     ],
     "language": "python",
     "metadata": {},
     "outputs": []
    },
    {
     "cell_type": "markdown",
     "metadata": {},
     "source": [
      "(Remember to overplot the discharge data.)"
     ]
    },
    {
     "cell_type": "code",
     "collapsed": false,
     "input": [
      "total_ice_melt = ice_melt.data_by_doy()\n",
      "fig, ax = plt.subplots(1,1)\n",
      "ax.set_title( \"Snow/Ice temperature index model melt from ice, Hunza, 2001\" )\n",
      "ax.set_ylabel('Melt ($km^3$)')\n",
      "total_ice_melt.plot()"
     ],
     "language": "python",
     "metadata": {},
     "outputs": []
    },
    {
     "cell_type": "code",
     "collapsed": false,
     "input": [
      "fig, ax = plt.subplots(1,1)\n",
      "ax.set_title( \"Snow/Ice temperature index model melt, Hunza, 2001\" )\n",
      "ax.set_ylabel('Melt ($km^3$)')\n",
      "total_snow_melt.plot( label=\"Snow Melt\" )\n",
      "total_ice_melt.plot( label=\"Ice Melt\", style=\"r\" )\n",
      "ax.legend( loc=\"best\" )"
     ],
     "language": "python",
     "metadata": {},
     "outputs": []
    },
    {
     "cell_type": "markdown",
     "metadata": {},
     "source": [
      "Last, we might want to include discharge data for Dainyour Bridge on the same plot:"
     ]
    },
    {
     "cell_type": "code",
     "collapsed": false,
     "input": [
      "import wapda_discharge\n",
      "reload( wapda_discharge )\n",
      "discharge_filename = \"discharge_by_day/IN_Hunza_at_Danyour.daily_discharge.2001.txt\"\n",
      "discharge = wapda_discharge.Discharge()\n",
      "discharge.read( discharge_filename, verbose=True )"
     ],
     "language": "python",
     "metadata": {},
     "outputs": []
    },
    {
     "cell_type": "code",
     "collapsed": false,
     "input": [
      "discharge.data\n"
     ],
     "language": "python",
     "metadata": {},
     "outputs": []
    },
    {
     "cell_type": "code",
     "collapsed": false,
     "input": [
      "fig, ax = plt.subplots(1,1)\n",
      "ax.set_title( \"Modelled melt vs. Measured discharge, Hunza at Danyour Bridge, 2001\" )\n",
      "ax.set_ylabel('Melt ($km^3$)')\n",
      "total_snow_melt.plot( label=\"Snow Melt\", figsize=(12,8) )\n",
      "total_ice_melt.plot( label=\"Ice Melt\", style=\"r\" )\n",
      "discharge.data['Discharge'].plot( label=\"Measured daily discharge\", style='ko' )\n",
      "ax.legend( loc=\"best\" )\n"
     ],
     "language": "python",
     "metadata": {},
     "outputs": []
    },
    {
     "cell_type": "markdown",
     "metadata": {},
     "source": [
      "Exercise:  Make a plot of modelled melt from total (snow + ice) vs. measured discharge."
     ]
    },
    {
     "cell_type": "code",
     "collapsed": false,
     "input": [],
     "language": "python",
     "metadata": {},
     "outputs": []
    }
   ],
   "metadata": {}
  }
 ]
}