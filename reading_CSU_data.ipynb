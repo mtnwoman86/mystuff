{
 "metadata": {
  "name": ""
 },
 "nbformat": 3,
 "nbformat_minor": 0,
 "worksheets": [
  {
   "cells": [
    {
     "cell_type": "code",
     "collapsed": false,
     "input": [
      "from netCDF4 import Dataset\n",
      "import numpy as np\n",
      "df = Dataset(\"/Users/brodzik/projects/PMESDR/CSU_FCDR/F08/8710/871022/CSU_SSMI_FCDR_V01R00_F08_D19871022_S2219_E0001_R01763.nc\", \"r\", 'NETCDF4' )"
     ],
     "language": "python",
     "metadata": {},
     "outputs": [],
     "prompt_number": 1
    },
    {
     "cell_type": "code",
     "collapsed": false,
     "input": [
      "ndf = Dataset(\"/Users/brodzik/projects/PMESDR/CSU_FCDR/F08/8710/871022/CSU_SSMI_FCDR_V01R00_F08_D19871022_S1855_E2037_R01761.nc\", \"r\", 'NETCDF4' )"
     ],
     "language": "python",
     "metadata": {},
     "outputs": [],
     "prompt_number": 2
    },
    {
     "cell_type": "code",
     "collapsed": false,
     "input": [
      "print df\n",
      "\n",
      "\n"
     ],
     "language": "python",
     "metadata": {},
     "outputs": [
      {
       "output_type": "stream",
       "stream": "stdout",
       "text": [
        "<type 'netCDF4.Dataset'>\n",
        "root group (NETCDF4 data model, file format UNDEFINED):\n",
        "    Conventions: CF-1.6\n",
        "    Metadata_Conventions: CF-1.6, Unidata Dataset Discovery v1.0, NOAA CDR v1.0, GDS v2.0\n",
        "    standard_name_vocabulary: CF Standard Name Table (v20, 11 September 2012)\n",
        "    id: CSU_SSMI_FCDR_V01R00_F08_D19871022_S2219_E0001_R01763.nc\n",
        "    naming_authority: gov.noaa.ncdc\n",
        "    metadata_link: gov.noaa.ncdc:C00827\n",
        "    title: CSU SSM/I FCDR\n",
        "    product_version: V01R00\n",
        "    revision_date: 2013-02-01\n",
        "    summary: Colorado State University Special Sensor Microwave/Imager (SSM/I) Fundamental Climate Data Record (FCDR) of intercalibrated brightness temperatures\n",
        "    keywords: EARTH SCIENCE > SPECTRAL/ENGINEERING > MICROWAVE > BRIGHTNESS TEMPERATURE\n",
        "    keywords_vocabulary: NASA Global Change Master Directory (GCMD) Earth Science Keywords, Version 6.0\n",
        "    platform: DMSP 5D-2/F08 > Defense Meteorological Satellite Program-F08\n",
        "    sensor: SSM/I > Special Sensor Microwave/Imager\n",
        "    cdm_data_type: Swath\n",
        "    cdr_program: NOAA Climate Data Record Program for satellites, FY 2013\n",
        "    cdr_variable: fcdr_tb19v, fcdr_tb19h, fcdr_tb22v, fcdr_tb37v, fcdr_tb37h, fcdr_tb85v, fcdr_tb85h\n",
        "    source: SSMI_TDRBASE_V01R03_F08_D19871022_S2219_E0001_R01763.nc\n",
        "    date_created: 2013-02-01T16:07MST\n",
        "    creator_name: Wesley Berg\n",
        "    creator_url: http://rain.atmos.colostate.edu/FCDR\n",
        "    creator_email: fcdr@atmos.colostate.edu\n",
        "    institution: Colorado State University, Dept. of Atmospheric Science, Kummerow research group\n",
        "    processing_level: NOAA Level 2\n",
        "    geospatial_lat_min:  -87.71\n",
        "    geospatial_lat_max:   87.68\n",
        "    geospatial_lon_min: -180.00\n",
        "    geospatial_lon_max:  179.99\n",
        "    geospatial_lat_units: degrees_north\n",
        "    geospatial_lon_units: degrees_east\n",
        "    spatial_resolution: 19 V/H GHz: 43km X 69km, 22 V GHz: 40km X 50km, 37 V/H GHz: 28km X 37km, 85 V/H GHz: 13km X 15km\n",
        "    time_coverage_start: 1987-10-22T22:19:25Z\n",
        "    time_coverage_end: 1987-10-23T00:01:23Z\n",
        "    time_coverage_duration: PT1H41M58S\n",
        "    license: No restrictions on access or use\n",
        "    contributor_name: Christian Kummerow, Wesley Berg, Mathew Sapiano\n",
        "    contributor_role: Principal investigator, Co-Investigator and developer with overall responsibility for FCDR data software and documentation, Responsible for intercalibration geolocation and cross-track bias adjustments including associated software and documentation\n",
        "    orbit_number: 01763\n",
        "    dimensions(sizes): npixel_lores(64), npixel_hires(128), nscan_lores(1591), nscan_hires(3182), ntest(9), numchar(23)\n",
        "    variables(dimensions): float64 \u001b[4morbit_lores\u001b[0m(nscan_lores), float64 \u001b[4mscan_time_lores\u001b[0m(nscan_lores), |S1 \u001b[4mscan_datetime_lores\u001b[0m(nscan_lores,numchar), float32 \u001b[4mspacecraft_lat_lores\u001b[0m(nscan_lores), float32 \u001b[4mspacecraft_lon_lores\u001b[0m(nscan_lores), float32 \u001b[4mspacecraft_alt_lores\u001b[0m(nscan_lores), float32 \u001b[4mlat_lores\u001b[0m(nscan_lores,npixel_lores), float32 \u001b[4mlon_lores\u001b[0m(nscan_lores,npixel_lores), float32 \u001b[4mfcdr_tb19v\u001b[0m(nscan_lores,npixel_lores), float32 \u001b[4mfcdr_tb19h\u001b[0m(nscan_lores,npixel_lores), float32 \u001b[4mfcdr_tb22v\u001b[0m(nscan_lores,npixel_lores), float32 \u001b[4mfcdr_tb37v\u001b[0m(nscan_lores,npixel_lores), float32 \u001b[4mfcdr_tb37h\u001b[0m(nscan_lores,npixel_lores), float32 \u001b[4meia_lores\u001b[0m(nscan_lores,npixel_lores), int8 \u001b[4msun_glint_lores\u001b[0m(nscan_lores,npixel_lores), int8 \u001b[4mquality_lores\u001b[0m(nscan_lores,npixel_lores), float64 \u001b[4morbit_hires\u001b[0m(nscan_hires), float64 \u001b[4mscan_time_hires\u001b[0m(nscan_hires), |S1 \u001b[4mscan_datetime_hires\u001b[0m(nscan_hires,numchar), float32 \u001b[4mspacecraft_lat_hires\u001b[0m(nscan_hires), float32 \u001b[4mspacecraft_lon_hires\u001b[0m(nscan_hires), float32 \u001b[4mspacecraft_alt_hires\u001b[0m(nscan_hires), float32 \u001b[4mlat_hires\u001b[0m(nscan_hires,npixel_hires), float32 \u001b[4mlon_hires\u001b[0m(nscan_hires,npixel_hires), float32 \u001b[4mfcdr_tb85v\u001b[0m(nscan_hires,npixel_hires), float32 \u001b[4mfcdr_tb85h\u001b[0m(nscan_hires,npixel_hires), float32 \u001b[4meia_hires\u001b[0m(nscan_hires,npixel_hires), int8 \u001b[4msun_glint_hires\u001b[0m(nscan_hires,npixel_hires), int8 \u001b[4mquality_hires\u001b[0m(nscan_hires,npixel_hires), int32 \u001b[4mquality_tests\u001b[0m(ntest), float32 \u001b[4mnominal_elevation_angle\u001b[0m(), float32 \u001b[4mdelta_elevation_angle\u001b[0m(), float32 \u001b[4mspacecraft_roll\u001b[0m(), float32 \u001b[4mspacecraft_pitch\u001b[0m(), float32 \u001b[4mspacecraft_yaw\u001b[0m(), |S1 \u001b[4mcrs\u001b[0m()\n",
        "    groups: \n",
        "\n"
       ]
      }
     ],
     "prompt_number": 3
    },
    {
     "cell_type": "code",
     "collapsed": false,
     "input": [
      "print ndf"
     ],
     "language": "python",
     "metadata": {},
     "outputs": [
      {
       "output_type": "stream",
       "stream": "stdout",
       "text": [
        "<type 'netCDF4.Dataset'>\n",
        "root group (NETCDF4 data model, file format UNDEFINED):\n",
        "    Conventions: CF-1.6\n",
        "    Metadata_Conventions: CF-1.6, Unidata Dataset Discovery v1.0, NOAA CDR v1.0, GDS v2.0\n",
        "    standard_name_vocabulary: CF Standard Name Table (v20, 11 September 2012)\n",
        "    id: CSU_SSMI_FCDR_V01R00_F08_D19871022_S1855_E2037_R01761.nc\n",
        "    naming_authority: gov.noaa.ncdc\n",
        "    metadata_link: gov.noaa.ncdc:C00827\n",
        "    title: CSU SSM/I FCDR\n",
        "    product_version: V01R00\n",
        "    revision_date: 2013-02-01\n",
        "    summary: Colorado State University Special Sensor Microwave/Imager (SSM/I) Fundamental Climate Data Record (FCDR) of intercalibrated brightness temperatures\n",
        "    keywords: EARTH SCIENCE > SPECTRAL/ENGINEERING > MICROWAVE > BRIGHTNESS TEMPERATURE\n",
        "    keywords_vocabulary: NASA Global Change Master Directory (GCMD) Earth Science Keywords, Version 6.0\n",
        "    platform: DMSP 5D-2/F08 > Defense Meteorological Satellite Program-F08\n",
        "    sensor: SSM/I > Special Sensor Microwave/Imager\n",
        "    cdm_data_type: Swath\n",
        "    cdr_program: NOAA Climate Data Record Program for satellites, FY 2013\n",
        "    cdr_variable: fcdr_tb19v, fcdr_tb19h, fcdr_tb22v, fcdr_tb37v, fcdr_tb37h, fcdr_tb85v, fcdr_tb85h\n",
        "    source: SSMI_TDRBASE_V01R03_F08_D19871022_S1855_E2037_R01761.nc\n",
        "    date_created: 2013-02-01T16:07MST\n",
        "    creator_name: Wesley Berg\n",
        "    creator_url: http://rain.atmos.colostate.edu/FCDR\n",
        "    creator_email: fcdr@atmos.colostate.edu\n",
        "    institution: Colorado State University, Dept. of Atmospheric Science, Kummerow research group\n",
        "    processing_level: NOAA Level 2\n",
        "    geospatial_lat_min:   90.00\n",
        "    geospatial_lat_max:  -90.00\n",
        "    geospatial_lon_min:  180.00\n",
        "    geospatial_lon_max: -180.00\n",
        "    geospatial_lat_units: degrees_north\n",
        "    geospatial_lon_units: degrees_east\n",
        "    spatial_resolution: 19 V/H GHz: 43km X 69km, 22 V GHz: 40km X 50km, 37 V/H GHz: 28km X 37km, 85 V/H GHz: 13km X 15km\n",
        "    time_coverage_start: 1987-10-22T18:55:28Z\n",
        "    time_coverage_end: 1987-10-22T20:37:27Z\n",
        "    time_coverage_duration: PT1H41M59S\n",
        "    license: No restrictions on access or use\n",
        "    contributor_name: Christian Kummerow, Wesley Berg, Mathew Sapiano\n",
        "    contributor_role: Principal investigator, Co-Investigator and developer with overall responsibility for FCDR data software and documentation, Responsible for intercalibration geolocation and cross-track bias adjustments including associated software and documentation\n",
        "    orbit_number: 01761\n",
        "    dimensions(sizes): npixel_lores(64), npixel_hires(128), nscan_lores(0), nscan_hires(0), ntest(9), numchar(23)\n",
        "    variables(dimensions): \n",
        "    groups: \n",
        "\n"
       ]
      }
     ],
     "prompt_number": 4
    },
    {
     "cell_type": "code",
     "collapsed": false,
     "input": [
      "Rdf = Dataset(\"/Users/brodzik/disks/archive/nsidc0588_RSS_TBs/v7_netcdf/F08/1987/10/RSS_SSMI_FCDR_V07R00_F08_D19871022_S2148_E2340_R01763.nc\", \"r\", \"NETCDF4\" )"
     ],
     "language": "python",
     "metadata": {},
     "outputs": [],
     "prompt_number": 8
    },
    {
     "cell_type": "code",
     "collapsed": false,
     "input": [
      "print Rdf\n"
     ],
     "language": "python",
     "metadata": {},
     "outputs": [
      {
       "output_type": "stream",
       "stream": "stdout",
       "text": [
        "<type 'netCDF4.Dataset'>\n",
        "root group (NETCDF4 data model, file format UNDEFINED):\n",
        "    Conventions: CF-1.5\n",
        "    Metadata_Conventions: CF-1.5, Unidata Dataset Discovery v1.0, NOAA CDR v1.0, GDS v2.0\n",
        "    standard_name_vocabulary: CF Standard Name Table (v16, 11 October 2010)\n",
        "    id: RSS_SSMI_FCDR_V07R00_F08_D19871022_S2148_E2340_R01763.nc\n",
        "    naming_authority: gov.noaa.ncdc\n",
        "    metadata_link: gov.noaa.ncdc:C00810\n",
        "    title: RSS Version-7 SSM/I FCDR\n",
        "    product_version: v07r00\n",
        "    date_issued: 2011-09-30\n",
        "    summary: Remote Sensing Systems (RSS) Version-7 Special Sensor Microwave/Imager (SSM/I) Fundamental Climate Data Record (FCDR); intercalibrated and homogenized brightness temperature polar-orbiting product with quality flags starting from July 1987\n",
        "    keywords: EARTH SCIENCE > SPECTRAL/ENGINEERING > MICROWAVE > BRIGHTNESS TEMPERATURE\n",
        "    keywords_vocabulary: NASA Global Change Master Directory (GCMD) Earth Science Keywords, Version 6.0\n",
        "    platform: DMSP 5D-2/F08 > Defense Meteorological Satellite Program-F08\n",
        "    sensor: SSM/I > Special Sensor Microwave/Imager\n",
        "    cdm_data_type: Swath\n",
        "    cdr_program: CICS-NC supported Climate Data Record Program for satellites, FY 2011\n",
        "    cdr_variable: fcdr_brightness_temperature_19V, fcdr_brightness_temperature_19H, fcdr_brightness_temperature_22V, fcdr_brightness_temperature_37V, fcdr_brightness_temperature_37H, fcdr_brightness_temperature_85V, fcdr_brightness_temperature_85H\n",
        "    source: F08_r01763.dat\n",
        "    date_created: 2012-05-24 23:35:45Z\n",
        "    creator_name: Carl Mears\n",
        "    creator_url: http://www.remss.com/\n",
        "    creator_email: mears@remss.com\n",
        "    institution: Remote Sensing Systems\n",
        "    processing_level: NOAA Level 2\n",
        "    references: doi:10.1175/2007JAMC1635.1, doi:10.1126/science.1140746, SSM/I Users Interpretation Guide UG32268-900 Rev C 29 Nov 2000\n",
        "    history: 1) 2011-09-30, Carl Mears, Remote Sensing Systems, created initial netCDF file converted from the original RSS data format\n",
        "    geospatial_lat_min: -87.77\n",
        "    geospatial_lat_max: 87.73\n",
        "    geospatial_lon_min: -180.0\n",
        "    geospatial_lon_max: 179.99\n",
        "    geospatial_lat_units: degrees_north\n",
        "    geospatial_lon_units: degrees_east\n",
        "    spatial_resolution: 19 V/H GHz: 45km X 70km, 22 V GHz: 40km X 60km, 37 V/H GHz: 30km X 38km, 85 V/H GHz: 14km X 16km\n",
        "    time_coverage_start: 1987-10-22 21:48:49Z\n",
        "    time_coverage_end: 1987-10-22 23:40:57Z\n",
        "    time_coverage_duration: PT6728S\n",
        "    license: No restrictions on access or use\n",
        "    contributor_name: Frank Wentz, Carl Mears\n",
        "    contributor_role: Principal investigator and originator of input/source or antenna temperature data, Processor and author of entire driver routine (write_ssmi_tbs_netcdf.pro) which converts RSS native brightness temperature format to netCDF-4.\n",
        "    dimensions(sizes): scan_number_hires(3600), footprint_number_hires(128), scan_number_lores(1800), footprint_number_lores(64), fourteen_flags(14), numchar(20)\n",
        "    variables(dimensions): int32 \u001b[4miorbit\u001b[0m(), float64 \u001b[4mscan_time_hires\u001b[0m(scan_number_hires), float64 \u001b[4mscan_time_lores\u001b[0m(scan_number_hires), float64 \u001b[4morbit_position\u001b[0m(scan_number_hires), float32 \u001b[4msc_lat\u001b[0m(scan_number_hires), float32 \u001b[4msc_lon\u001b[0m(scan_number_hires), float32 \u001b[4msc_alt\u001b[0m(scan_number_hires), int8 \u001b[4miqual_flag_hires\u001b[0m(fourteen_flags,scan_number_hires), int8 \u001b[4miqual_flag_lores\u001b[0m(fourteen_flags,scan_number_lores), int16 \u001b[4mlatitude_hires\u001b[0m(scan_number_hires,footprint_number_hires), int16 \u001b[4mlongitude_hires\u001b[0m(scan_number_hires,footprint_number_hires), int16 \u001b[4mearth_incidence_angle_hires\u001b[0m(scan_number_hires,footprint_number_hires), int16 \u001b[4mearth_azimuth_angle_hires\u001b[0m(scan_number_hires,footprint_number_hires), int16 \u001b[4msun_glitter_angle_hires\u001b[0m(scan_number_hires,footprint_number_hires), int16 \u001b[4mland_percentage_hires\u001b[0m(scan_number_hires,footprint_number_hires), int16 \u001b[4mice_flag_hires\u001b[0m(scan_number_hires,footprint_number_hires), float32 \u001b[4mfcdr_brightness_temperature_85V\u001b[0m(scan_number_hires,footprint_number_hires), float32 \u001b[4mfcdr_brightness_temperature_85H\u001b[0m(scan_number_hires,footprint_number_hires), int16 \u001b[4mlatitude_lores\u001b[0m(scan_number_lores,footprint_number_lores), int16 \u001b[4mlongitude_lores\u001b[0m(scan_number_lores,footprint_number_lores), int16 \u001b[4mearth_incidence_angle_lores\u001b[0m(scan_number_lores,footprint_number_lores), int16 \u001b[4mearth_azimuth_angle_lores\u001b[0m(scan_number_lores,footprint_number_lores), int16 \u001b[4msun_glitter_angle_lores\u001b[0m(scan_number_lores,footprint_number_lores), int16 \u001b[4mland_percentage_lores\u001b[0m(scan_number_lores,footprint_number_lores), int16 \u001b[4mice_flag_lores\u001b[0m(scan_number_lores,footprint_number_lores), float32 \u001b[4mfcdr_brightness_temperature_19V\u001b[0m(scan_number_lores,footprint_number_lores), float32 \u001b[4mfcdr_brightness_temperature_19H\u001b[0m(scan_number_lores,footprint_number_lores), float32 \u001b[4mfcdr_brightness_temperature_22V\u001b[0m(scan_number_lores,footprint_number_lores), float32 \u001b[4mfcdr_brightness_temperature_37V\u001b[0m(scan_number_lores,footprint_number_lores), float32 \u001b[4mfcdr_brightness_temperature_37H\u001b[0m(scan_number_lores,footprint_number_lores)\n",
        "    groups: \n",
        "\n"
       ]
      }
     ],
     "prompt_number": 9
    },
    {
     "cell_type": "code",
     "collapsed": false,
     "input": [
      "tbs = Rdf.variables[\"fcdr_brightness_temperature_37V\"]\n",
      "print tbs\n",
      "\n",
      "#Rdf.close()\n"
     ],
     "language": "python",
     "metadata": {},
     "outputs": [
      {
       "output_type": "stream",
       "stream": "stdout",
       "text": [
        "<type 'netCDF4.Variable'>\n",
        "float32 fcdr_brightness_temperature_37V(scan_number_lores, footprint_number_lores)\n",
        "    standard_name: brightness_temperature\n",
        "    long_name: RSS FCDR of 37.0 GHz vertically polarized brightness temperature\n",
        "    units: kelvin\n",
        "    valid_range: [  50.  350.]\n",
        "    _FillValue: -100.0\n",
        "    coordinates: longitude_lores latitude_lores\n",
        "unlimited dimensions: \n",
        "current shape = (1800, 64)\n",
        "filling on\n"
       ]
      }
     ],
     "prompt_number": 11
    },
    {
     "cell_type": "code",
     "collapsed": false,
     "input": [
      "bgifil = Dataset(\"/Users/brodzik/Desktop/test_bgi_diffs.nc\", \"w\", 'NETCDF4' )\n",
      "bgifil.createDimension( \"rows\", 3 )\n",
      "bgifil.createDimension( \"columns\", 2 )"
     ],
     "language": "python",
     "metadata": {},
     "outputs": [
      {
       "metadata": {},
       "output_type": "pyout",
       "prompt_number": 30,
       "text": [
        "<netCDF4.Dimension at 0x10dcbdbe0>"
       ]
      }
     ],
     "prompt_number": 30
    },
    {
     "cell_type": "code",
     "collapsed": false,
     "input": [
      "bgifil.createVariable( \"bgi_image\", float64, ( \"rows\", \"columns\" ) )"
     ],
     "language": "python",
     "metadata": {},
     "outputs": [
      {
       "metadata": {},
       "output_type": "pyout",
       "prompt_number": 31,
       "text": [
        "<netCDF4.Variable at 0x10dce5b90>"
       ]
      }
     ],
     "prompt_number": 31
    },
    {
     "cell_type": "code",
     "collapsed": false,
     "input": [
      "fil = Dataset(\"/Users/brodzik/Desktop/test.nc\", \"r\", 'NETCDF4' )\n",
      "print fil"
     ],
     "language": "python",
     "metadata": {},
     "outputs": [
      {
       "output_type": "stream",
       "stream": "stdout",
       "text": [
        "<type 'netCDF4.Dataset'>\n",
        "root group (NETCDF4 data model, file format UNDEFINED):\n",
        "    dimensions(sizes): rows(3), columns(2)\n",
        "    variables(dimensions): float64 \u001b[4ma_image\u001b[0m(rows,columns), float64 \u001b[4mave_image\u001b[0m(rows,columns)\n",
        "    groups: \n",
        "\n"
       ]
      }
     ],
     "prompt_number": 32
    },
    {
     "cell_type": "code",
     "collapsed": false,
     "input": [
      "origdata = fil.variables['a_image'][:]\n",
      "print origdata"
     ],
     "language": "python",
     "metadata": {},
     "outputs": [
      {
       "output_type": "stream",
       "stream": "stdout",
       "text": [
        "[[ 150.  200.]\n",
        " [ 201.  325.]\n",
        " [ 278.  285.]]\n"
       ]
      }
     ],
     "prompt_number": 33
    },
    {
     "cell_type": "code",
     "collapsed": false,
     "input": [
      "origdata[0][1] = 500.\n",
      "print origdata"
     ],
     "language": "python",
     "metadata": {},
     "outputs": [
      {
       "output_type": "stream",
       "stream": "stdout",
       "text": [
        "[[ 150.  500.]\n",
        " [ 201.  325.]\n",
        " [ 278.  285.]]\n"
       ]
      }
     ],
     "prompt_number": 34
    },
    {
     "cell_type": "code",
     "collapsed": false,
     "input": [
      "bgifil.variables[\"bgi_image\"][:] = origdata"
     ],
     "language": "python",
     "metadata": {},
     "outputs": [],
     "prompt_number": 35
    },
    {
     "cell_type": "code",
     "collapsed": false,
     "input": [
      "bgifil.close()"
     ],
     "language": "python",
     "metadata": {},
     "outputs": [],
     "prompt_number": 36
    },
    {
     "cell_type": "code",
     "collapsed": false,
     "input": [
      "otherfil = Dataset(\"/Users/brodzik/Desktop/test_bgi_diffs.nc\", \"r\", 'NETCDF4' )\n",
      "print otherfil\n",
      "bad_bgi = otherfil.variables[\"bgi_image\"][:]\n",
      "print bad_bgi\n",
      "\n"
     ],
     "language": "python",
     "metadata": {},
     "outputs": [
      {
       "output_type": "stream",
       "stream": "stdout",
       "text": [
        "<type 'netCDF4.Dataset'>\n",
        "root group (NETCDF4 data model, file format UNDEFINED):\n",
        "    dimensions(sizes): rows(3), columns(2)\n",
        "    variables(dimensions): float64 \u001b[4mbgi_image\u001b[0m(rows,columns)\n",
        "    groups: \n",
        "\n",
        "[[ 150.  500.]\n",
        " [ 201.  325.]\n",
        " [ 278.  285.]]\n"
       ]
      }
     ],
     "prompt_number": 45
    },
    {
     "cell_type": "code",
     "collapsed": false,
     "input": [
      "otherfil.close()"
     ],
     "language": "python",
     "metadata": {},
     "outputs": [],
     "prompt_number": 41
    },
    {
     "cell_type": "code",
     "collapsed": false,
     "input": [
      "otherfil = Dataset(\"/Users/brodzik/projects/PMESDR/PMESDR_daily_regression_test/python/test_cetb_utilities_data/bgi_data/test_bgi.nc\", \"r\", 'NETCDF4' )\n",
      "print otherfil\n",
      "good_bgi = otherfil.variables[\"bgi_image\"][:]\n",
      "print good_bgi"
     ],
     "language": "python",
     "metadata": {},
     "outputs": [
      {
       "output_type": "stream",
       "stream": "stdout",
       "text": [
        "<type 'netCDF4.Dataset'>\n",
        "root group (NETCDF4 data model, file format UNDEFINED):\n",
        "    dimensions(sizes): rows(3), columns(2)\n",
        "    variables(dimensions): float64 \u001b[4mbgi_image\u001b[0m(rows,columns)\n",
        "    groups: \n",
        "\n",
        "[[ 150.  200.]\n",
        " [ 201.  325.]\n",
        " [ 278.  285.]]\n"
       ]
      }
     ],
     "prompt_number": 44
    },
    {
     "cell_type": "code",
     "collapsed": false,
     "input": [
      "print good_bgi\n",
      "print bad_bgi\n",
      "diff = bad_bgi - good_bgi\n",
      "print diff\n",
      "print diff[ np.where( np.logical_and( np.logical_and( 50. < bad_bgi, bad_bgi < 350. ), \n",
      "                                np.logical_and( 50. < good_bgi, good_bgi < 350. ) ) ) ]\n",
      "print diff[ ( 50. < bad_bgi ) & ( bad_bgi < 350. ) & ( 50. < good_bgi ) & ( good_bgi < 350. ) ]\n"
     ],
     "language": "python",
     "metadata": {},
     "outputs": [
      {
       "output_type": "stream",
       "stream": "stdout",
       "text": [
        "[[ 150.  200.]\n",
        " [ 201.  325.]\n",
        " [ 278.  285.]]\n",
        "[[ 150.  500.]\n",
        " [ 201.  325.]\n",
        " [ 278.  285.]]\n",
        "[[   0.  300.]\n",
        " [   0.    0.]\n",
        " [   0.    0.]]\n",
        "[ 0.  0.  0.  0.  0.]\n",
        "[ 0.  0.  0.  0.  0.]\n"
       ]
      }
     ],
     "prompt_number": 63
    },
    {
     "cell_type": "code",
     "collapsed": false,
     "input": [
      "new = bad_bgi.copy()\n",
      "new[2][0] = -10.\n",
      "print new\n",
      "print bad_bgi\n",
      "diff = new - bad_bgi\n",
      "print diff\n",
      "print diff[ ( 50. < bad_bgi ) & ( bad_bgi < 350. ) & ( 50. < new ) & ( new < 350. ) ]\n",
      "indx = ( 50. < bad_bgi ) & ( bad_bgi < 350. ) & ( 50. < new ) & ( new < 350. )\n",
      "print indx\n",
      "\n"
     ],
     "language": "python",
     "metadata": {},
     "outputs": [
      {
       "output_type": "stream",
       "stream": "stdout",
       "text": [
        "[[ 150.  500.]\n",
        " [ 201.  325.]\n",
        " [ -10.  285.]]\n",
        "[[ 150.  500.]\n",
        " [ 201.  325.]\n",
        " [ 278.  285.]]\n",
        "[[   0.    0.]\n",
        " [   0.    0.]\n",
        " [-288.    0.]]\n",
        "[ 0.  0.  0.  0.]\n",
        "[[ True False]\n",
        " [ True  True]\n",
        " [False  True]]\n"
       ]
      }
     ],
     "prompt_number": 75
    },
    {
     "cell_type": "code",
     "collapsed": false,
     "input": [
      "fil.createVariable( \"ave_image\", float64, ( \"rows\", \"columns\" ) )"
     ],
     "language": "python",
     "metadata": {},
     "outputs": [
      {
       "metadata": {},
       "output_type": "pyout",
       "prompt_number": 21,
       "text": [
        "<netCDF4.Variable at 0x10dce54d0>"
       ]
      }
     ],
     "prompt_number": 21
    },
    {
     "cell_type": "code",
     "collapsed": false,
     "input": [
      "fil.close()"
     ],
     "language": "python",
     "metadata": {},
     "outputs": [],
     "prompt_number": 22
    },
    {
     "cell_type": "code",
     "collapsed": false,
     "input": [
      "fil = Dataset(\"/Users/brodzik/Desktop/test.nc\", \"r\", 'NETCDF4' )\n",
      "print fil\n",
      "keys = fil.variables.keys()\n",
      "print keys"
     ],
     "language": "python",
     "metadata": {},
     "outputs": [
      {
       "output_type": "stream",
       "stream": "stdout",
       "text": [
        "<type 'netCDF4.Dataset'>\n",
        "root group (NETCDF4 data model, file format UNDEFINED):\n",
        "    dimensions(sizes): rows(3), columns(2)\n",
        "    variables(dimensions): float64 \u001b[4ma_image\u001b[0m(rows,columns), float64 \u001b[4mave_image\u001b[0m(rows,columns)\n",
        "    groups: \n",
        "\n",
        "[u'a_image', u'ave_image']\n"
       ]
      }
     ],
     "prompt_number": 24
    },
    {
     "cell_type": "code",
     "collapsed": false,
     "input": [
      "for key in keys: print key\n",
      "    \n"
     ],
     "language": "python",
     "metadata": {},
     "outputs": [
      {
       "output_type": "stream",
       "stream": "stdout",
       "text": [
        "a_image\n",
        "ave_image\n"
       ]
      }
     ],
     "prompt_number": 25
    },
    {
     "cell_type": "code",
     "collapsed": false,
     "input": [
      "print len(x)\n"
     ],
     "language": "python",
     "metadata": {},
     "outputs": [
      {
       "output_type": "stream",
       "stream": "stdout",
       "text": [
        "2\n"
       ]
      }
     ],
     "prompt_number": 5
    },
    {
     "cell_type": "code",
     "collapsed": false,
     "input": [
      "def test(x):\n",
      "    x = 5\n",
      "y = 8\n",
      "test( y )\n",
      "print y"
     ],
     "language": "python",
     "metadata": {},
     "outputs": [
      {
       "output_type": "stream",
       "stream": "stdout",
       "text": [
        "8\n"
       ]
      }
     ],
     "prompt_number": 73
    },
    {
     "cell_type": "code",
     "collapsed": false,
     "input": [],
     "language": "python",
     "metadata": {},
     "outputs": []
    }
   ],
   "metadata": {}
  }
 ]
}